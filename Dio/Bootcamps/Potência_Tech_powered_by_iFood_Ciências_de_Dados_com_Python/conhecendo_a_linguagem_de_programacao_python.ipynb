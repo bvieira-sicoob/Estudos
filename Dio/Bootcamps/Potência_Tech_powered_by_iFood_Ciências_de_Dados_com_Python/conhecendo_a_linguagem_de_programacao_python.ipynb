{
 "cells": [
  {
   "cell_type": "markdown",
   "metadata": {},
   "source": [
    "### Por que usamos tipos?\n",
    "Os tipos servem para definir as caracteristicas e comportamentos de um valor (objeto) para o interpretador.\n",
    "Por exemplo:\n",
    "\n",
    "Com esse tipo sou capaz de realizar operações matemáticas.\n",
    "Esse tipo para ser armazenado em memória irá consumir 24 bytes.\n",
    "\n",
    "### Tipos em Python\n",
    "Os tipos built-in são:\n",
    "\n",
    "##### Texto     : str\n",
    "##### Número    : int, float, complex\n",
    "##### Sequência : list, tuple, range\n",
    "##### Mapa      : dict\n",
    "##### Coleção   : set, fronzenset\n",
    "##### Booleano  : bool\n",
    "##### Binário   : bytes, bytearray, memoryview\n",
    "\n",
    "### Números inteiros\n",
    "Números inteiros são respresentados pela classe *int* e possuem precisão ilimitada. São exemplos válidos de números inteiros:\n",
    "1, 10, 100, -1, -10, -100...99001823\n",
    "\n",
    "### Números de ponto flutuante\n",
    "Os números de ponto flutuante são usados para representar os números racionais e sua implementação é feita pela classe *float*. São exemplos válidos de números de ponto flutuante:\n",
    "1.5, -10.543, 0.76...999278.002\n",
    "\n",
    "### Booleano\n",
    "É usado para representar verdadeiro ou falso, e é implementado pela classe *bool*. Em Python o tipo booleano é uma subclasse *int*, uma vez que qualquer número diferente de 0 representa verdadeiro e 0 representa falso. São exemplos válidos de booleanos:\n",
    "True e False\n",
    "\n",
    "### Strings \n",
    "Strings ou cadeia de caracteres são usadas para representar valores alfanúmericos, em Python as strings são definidas utilizando a classe *str*. São exemplos válidos de string:\n",
    "\"Python\", 'Python', \"\"\"Python\"\"\", '''Python''', \"p\""
   ]
  },
  {
   "cell_type": "code",
   "execution_count": null,
   "metadata": {},
   "outputs": [],
   "source": [
    "print(11 + 10 + 1000)\n",
    "print(1.5 + 1 + 0.5)\n",
    "print(True)\n",
    "print(False)\n",
    "print(\"Python\")\n"
   ]
  },
  {
   "cell_type": "markdown",
   "metadata": {},
   "source": [
    "#### O modo interativo\n",
    "O interpretador Python pode executar em modo que possibilite o desenvolvedor a escrever o código, e ver o resultado na hora.\n",
    "\n",
    "#### Iniciando o modo interativo\n",
    "Existem duas formas de iniciar o modo interativo, chamando apenas o interpretador (python) ou executando o script com a flag -i (python -i app.py).\n",
    "\n",
    "#### dir\n",
    "sem argumentos, retorna a lista de nomes no escopo local atual. Com um argumento, retorna uma lista de atributos válidos para o objeto. Exemplo:\n",
    "##### dir()\n",
    "##### dir(100)\n",
    "\n",
    "#### help\n",
    "Invoca o sistema de ajuda integrado. É possível fazer buscas em modo interativo ou informar por parâmetro qual o nome do módulo, função, classe, método ou váriavel. Exemplo:\n",
    "##### help()\n",
    "##### help(100)"
   ]
  },
  {
   "cell_type": "markdown",
   "metadata": {},
   "source": [
    "#### Váriaveis\n",
    "Em linguagens de programação podemos definir valores que podem sofrer alterações no decorrer da execução do programa. Esses valores recebem o nome de variáveis, pois eles nascem com um valor e não necessariamente devem permanecer com o mesmo durante a execução do programa."
   ]
  },
  {
   "cell_type": "code",
   "execution_count": null,
   "metadata": {},
   "outputs": [],
   "source": [
    "age = 23\n",
    "name = \"Guilherme\"\n",
    "print(f\"Meu nome é {name} e eu tenho {age} ano(s) de idade.\")\n",
    "\n",
    "age, name = (23, \"Guilherme\")\n",
    "print(f\"Meu nome é {name} e eu tenho {age} ano(s) de idade.\")"
   ]
  },
  {
   "cell_type": "markdown",
   "metadata": {},
   "source": [
    "### Alterando os valores\n",
    "Perceba que não precisamos definir o tipo de dados da variável, o Python faz isso automaticamente para nós. Por isso não podemos simplesmente criar uma váriavel sem atribuir um valor. Para alterar o valor da variável basta fazer uma atribuição de um novo valor:"
   ]
  },
  {
   "cell_type": "code",
   "execution_count": null,
   "metadata": {},
   "outputs": [],
   "source": [
    "age = 28\n",
    "name = \"Guilherme\"\n",
    "print(f\"Meu nome é {name} e eu tenho {age} ano(s) de idade.\")\n",
    "\n",
    "age = 27\n",
    "name = \"Giovanna\"\n",
    "print(f\"Meu nome é {name} e eu tenho {age} ano(s) de idade.\")"
   ]
  },
  {
   "cell_type": "markdown",
   "metadata": {},
   "source": [
    "### Constantes\n",
    "Assim como as variáveis, constantes são utilizadas para armazenar valores. Uma constante nasce com um valor e permanece com ele até o final da execução do programa, ou seja, o valor é imutável.\n",
    "\n",
    "### Python não tem constantes\n",
    "Não existe uma palavra reservada para informar ao interpretador que o valor é constante. Em algumas linguagens por exemplo: Java e C utilizamos *final* e *const*, respectivamente para declarar uma constante.\n",
    "\n",
    "Em Python usamos a convenção que diz ao programador que a variável é uma constante. Para fazer isso, você deve criar a variável com o nome todo em letras maíusculas:"
   ]
  },
  {
   "cell_type": "code",
   "execution_count": null,
   "metadata": {},
   "outputs": [],
   "source": [
    "ABS_PATH = 'C:/Users/bernardov1000_00/Documents/Estudos 2.0/Estudos/Dio/Bootcamps/Potência_Tech_powered_by_iFood_Ciências_de_Dados_com_Python/'\n",
    "DEBUG = True\n",
    "STATES = [\n",
    "    \"SP\",\n",
    "    \"RJ\",\n",
    "    \"MG\",\n",
    "]\n",
    "AMOUNT = 30.2"
   ]
  },
  {
   "cell_type": "markdown",
   "metadata": {},
   "source": [
    "### Boas práticas\n",
    "- O padrão de nome deve ser em snake case.\n",
    "- Escolher nomes sugestivos.\n",
    "- Nome de constantes todo em maiúsculo."
   ]
  },
  {
   "cell_type": "code",
   "execution_count": null,
   "metadata": {},
   "outputs": [],
   "source": [
    "nome = \"Guilherme\"\n",
    "idade = \"28\"\n",
    "\n",
    "nome, idade = \"Giovanna\", 27\n",
    "\n",
    "print(nome, idade)\n",
    "\n",
    "limite_saque_diario = 1000\n",
    "\n",
    "BRAZILLIAN_STATES = [\"SP\", \"RJ\", \"SC\", \"RS\"]\n",
    "\n",
    "print(BRAZILLIAN_STATES)"
   ]
  },
  {
   "cell_type": "markdown",
   "metadata": {},
   "source": [
    "### Convertendo tipos\n",
    "Em alguns momentos é necessário converter o tipo de uma variável para manipular de forma diferente. Por exemplo:\n",
    "Váriaveis do tipo string, que armazenam números e precisamos fazer alguma operação matemática com esse valor."
   ]
  },
  {
   "cell_type": "markdown",
   "metadata": {},
   "source": [
    "### Inteiro para float"
   ]
  },
  {
   "cell_type": "code",
   "execution_count": null,
   "metadata": {},
   "outputs": [],
   "source": [
    "preco = 10\n",
    "print(preco)\n",
    "\n",
    "preco = float(preco)\n",
    "print(preco)\n",
    "\n",
    "preco = 10 / 2\n",
    "print(preco)"
   ]
  },
  {
   "cell_type": "markdown",
   "metadata": {},
   "source": [
    "### Float para inteiro"
   ]
  },
  {
   "cell_type": "code",
   "execution_count": null,
   "metadata": {},
   "outputs": [],
   "source": [
    "preco = 10.30\n",
    "print(preco)\n",
    "\n",
    "preco = int(preco)\n",
    "print(preco)"
   ]
  },
  {
   "cell_type": "markdown",
   "metadata": {},
   "source": [
    "### Conversão por divisão"
   ]
  },
  {
   "cell_type": "code",
   "execution_count": null,
   "metadata": {},
   "outputs": [],
   "source": [
    "preco = 10\n",
    "print(preco)\n",
    "\n",
    "print(preco / 2)\n",
    "\n",
    "print(preco // 2)"
   ]
  },
  {
   "cell_type": "markdown",
   "metadata": {},
   "source": [
    "### Numérico para string"
   ]
  },
  {
   "cell_type": "code",
   "execution_count": null,
   "metadata": {},
   "outputs": [],
   "source": [
    "preco = 10.50\n",
    "idade = 28\n",
    "\n",
    "print(str(preco))\n",
    "\n",
    "print(str(idade))\n",
    "\n",
    "texto = f\"idade {idade} preco {preco}\"\n",
    "print(texto)"
   ]
  },
  {
   "cell_type": "markdown",
   "metadata": {},
   "source": [
    "### String para número"
   ]
  },
  {
   "cell_type": "code",
   "execution_count": null,
   "metadata": {},
   "outputs": [],
   "source": [
    "preco = \"10.50\"\n",
    "idade = \"28\"\n",
    "\n",
    "print(float(preco))\n",
    "\n",
    "print(int(idade))"
   ]
  },
  {
   "cell_type": "code",
   "execution_count": null,
   "metadata": {},
   "outputs": [],
   "source": [
    "print(int(1.97348728))\n",
    "print(int(\"10\"))\n",
    "print(float(\"10.10\"))\n",
    "print(float(100))\n",
    "\n",
    "valor = 10\n",
    "valor_str =str(valor)\n",
    "print(type(valor))\n",
    "print(type(valor_str))\n",
    "\n",
    "print(100 / 2)\n",
    "print(100 // 2)\n"
   ]
  },
  {
   "cell_type": "markdown",
   "metadata": {},
   "source": [
    "### Função input\n",
    "A função builtin *input* é utilizada quando queremos ler dados da entrada padrão (teclado). Ela recebe um argumento do tipo string, que é exibido para o usuário na saída padrão (tela). A função lê a entrada, converte para string e retorna o valor."
   ]
  },
  {
   "cell_type": "code",
   "execution_count": null,
   "metadata": {},
   "outputs": [],
   "source": [
    "nome = input(\"Informe o seu nome: \")"
   ]
  },
  {
   "cell_type": "markdown",
   "metadata": {},
   "source": [
    "### Função print\n",
    "A função builtin *print* é utilizada quando queremos exibir dados na saída padrão (tela). Ela recebe um argumento obrigatório do tipo varargs de objetos e 4 argumentos opcionais (sep, end, file e flush). Todos os objetos são convertidos para string, separados por *sep* e terminados por *end*. A string final é exibida para o usuário."
   ]
  },
  {
   "cell_type": "code",
   "execution_count": null,
   "metadata": {},
   "outputs": [],
   "source": [
    "nome = \"Guilherme\"\n",
    "sobrenome = \"Carvalho\"\n",
    "\n",
    "print(nome, sobrenome)\n",
    "print(nome, sobrenome, end=\"...\\n\")\n",
    "print(nome, sobrenome, sep=\"#\")\n"
   ]
  },
  {
   "cell_type": "code",
   "execution_count": 14,
   "metadata": {},
   "outputs": [
    {
     "name": "stdout",
     "output_type": "stream",
     "text": [
      "ber 21\n",
      "ber 21...\n",
      "ber#21\n"
     ]
    }
   ],
   "source": [
    "nome = input(\"Informe o seu nome: \")\n",
    "idade = input(\"Informe a sua idade: \")\n",
    "\n",
    "print(nome, idade)\n",
    "print(nome, idade, end=\"...\\n\")\n",
    "print(nome, idade, sep=\"#\", end=\"...\\n\")\n",
    "print(nome, idade, sep=\"#\")"
   ]
  }
 ],
 "metadata": {
  "kernelspec": {
   "display_name": "Python 3",
   "language": "python",
   "name": "python3"
  },
  "language_info": {
   "codemirror_mode": {
    "name": "ipython",
    "version": 3
   },
   "file_extension": ".py",
   "mimetype": "text/x-python",
   "name": "python",
   "nbconvert_exporter": "python",
   "pygments_lexer": "ipython3",
   "version": "3.11.2"
  },
  "orig_nbformat": 4
 },
 "nbformat": 4,
 "nbformat_minor": 2
}
