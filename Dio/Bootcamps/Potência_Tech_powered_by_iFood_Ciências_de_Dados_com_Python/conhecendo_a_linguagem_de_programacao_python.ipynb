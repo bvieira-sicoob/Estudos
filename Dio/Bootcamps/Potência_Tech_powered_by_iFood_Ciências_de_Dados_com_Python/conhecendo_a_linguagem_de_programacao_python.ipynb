{
 "cells": [
  {
   "cell_type": "markdown",
   "metadata": {},
   "source": [
    "### Por que usamos tipos?\n",
    "Os tipos servem para definir as caracteristicas e comportamentos de um valor (objeto) para o interpretador.\n",
    "Por exemplo:\n",
    "\n",
    "Com esse tipo sou capaz de realizar operações matemáticas.\n",
    "Esse tipo para ser armazenado em memória irá consumir 24 bytes.\n",
    "\n",
    "### Tipos em Python\n",
    "Os tipos built-in são:\n",
    "\n",
    "##### Texto     : str\n",
    "##### Número    : int, float, complex\n",
    "##### Sequência : list, tuple, range\n",
    "##### Mapa      : dict\n",
    "##### Coleção   : set, fronzenset\n",
    "##### Booleano  : bool\n",
    "##### Binário   : bytes, bytearray, memoryview\n",
    "\n",
    "### Números inteiros\n",
    "Números inteiros são respresentados pela classe *int* e possuem precisão ilimitada. São exemplos válidos de números inteiros:\n",
    "1, 10, 100, -1, -10, -100...99001823\n",
    "\n",
    "### Números de ponto flutuante\n",
    "Os números de ponto flutuante são usados para representar os números racionais e sua implementação é feita pela classe *float*. São exemplos válidos de números de ponto flutuante:\n",
    "1.5, -10.543, 0.76...999278.002\n",
    "\n",
    "### Booleano\n",
    "É usado para representar verdadeiro ou falso, e é implementado pela classe *bool*. Em Python o tipo booleano é uma subclasse *int*, uma vez que qualquer número diferente de 0 representa verdadeiro e 0 representa falso. São exemplos válidos de booleanos:\n",
    "True e False\n",
    "\n",
    "### Strings \n",
    "Strings ou cadeia de caracteres são usadas para representar valores alfanúmericos, em Python as strings são definidas utilizando a classe *str*. São exemplos válidos de string:\n",
    "\"Python\", 'Python', \"\"\"Python\"\"\", '''Python''', \"p\""
   ]
  },
  {
   "cell_type": "code",
   "execution_count": null,
   "metadata": {},
   "outputs": [],
   "source": [
    "print(11 + 10 + 1000)\n",
    "print(1.5 + 1 + 0.5)\n",
    "print(True)\n",
    "print(False)\n",
    "print(\"Python\")\n"
   ]
  },
  {
   "cell_type": "markdown",
   "metadata": {},
   "source": [
    "#### O modo interativo\n",
    "O interpretador Python pode executar em modo que possibilite o desenvolvedor a escrever o código, e ver o resultado na hora.\n",
    "\n",
    "#### Iniciando o modo interativo\n",
    "Existem duas formas de iniciar o modo interativo, chamando apenas o interpretador (python) ou executando o script com a flag -i (python -i app.py).\n",
    "\n",
    "#### dir\n",
    "sem argumentos, retorna a lista de nomes no escopo local atual. Com um argumento, retorna uma lista de atributos válidos para o objeto. Exemplo:\n",
    "##### dir()\n",
    "##### dir(100)\n",
    "\n",
    "#### help\n",
    "Invoca o sistema de ajuda integrado. É possível fazer buscas em modo interativo ou informar por parâmetro qual o nome do módulo, função, classe, método ou váriavel. Exemplo:\n",
    "##### help()\n",
    "##### help(100)"
   ]
  },
  {
   "cell_type": "markdown",
   "metadata": {},
   "source": [
    "#### Váriaveis\n",
    "Em linguagens de programação podemos definir valores que podem sofrer alterações no decorrer da execução do programa. Esses valores recebem o nome de variáveis, pois eles nascem com um valor e não necessariamente devem permanecer com o mesmo durante a execução do programa."
   ]
  },
  {
   "cell_type": "code",
   "execution_count": null,
   "metadata": {},
   "outputs": [],
   "source": [
    "age = 23\n",
    "name = \"Guilherme\"\n",
    "print(f\"Meu nome é {name} e eu tenho {age} ano(s) de idade.\")\n",
    "\n",
    "age, name = (23, \"Guilherme\")\n",
    "print(f\"Meu nome é {name} e eu tenho {age} ano(s) de idade.\")"
   ]
  },
  {
   "cell_type": "markdown",
   "metadata": {},
   "source": [
    "### Alterando os valores\n",
    "Perceba que não precisamos definir o tipo de dados da variável, o Python faz isso automaticamente para nós. Por isso não podemos simplesmente criar uma váriavel sem atribuir um valor. Para alterar o valor da variável basta fazer uma atribuição de um novo valor:"
   ]
  },
  {
   "cell_type": "code",
   "execution_count": null,
   "metadata": {},
   "outputs": [],
   "source": [
    "age = 28\n",
    "name = \"Guilherme\"\n",
    "print(f\"Meu nome é {name} e eu tenho {age} ano(s) de idade.\")\n",
    "\n",
    "age = 27\n",
    "name = \"Giovanna\"\n",
    "print(f\"Meu nome é {name} e eu tenho {age} ano(s) de idade.\")"
   ]
  },
  {
   "cell_type": "markdown",
   "metadata": {},
   "source": [
    "### Constantes\n",
    "Assim como as variáveis, constantes são utilizadas para armazenar valores. Uma constante nasce com um valor e permanece com ele até o final da execução do programa, ou seja, o valor é imutável.\n",
    "\n",
    "### Python não tem constantes\n",
    "Não existe uma palavra reservada para informar ao interpretador que o valor é constante. Em algumas linguagens por exemplo: Java e C utilizamos *final* e *const*, respectivamente para declarar uma constante.\n",
    "\n",
    "Em Python usamos a convenção que diz ao programador que a variável é uma constante. Para fazer isso, você deve criar a variável com o nome todo em letras maíusculas:"
   ]
  },
  {
   "cell_type": "code",
   "execution_count": null,
   "metadata": {},
   "outputs": [],
   "source": [
    "ABS_PATH = 'C:/Users/bernardov1000_00/Documents/Estudos 2.0/Estudos/Dio/Bootcamps/Potência_Tech_powered_by_iFood_Ciências_de_Dados_com_Python/'\n",
    "DEBUG = True\n",
    "STATES = [\n",
    "    \"SP\",\n",
    "    \"RJ\",\n",
    "    \"MG\",\n",
    "]\n",
    "AMOUNT = 30.2"
   ]
  },
  {
   "cell_type": "markdown",
   "metadata": {},
   "source": [
    "### Boas práticas\n",
    "- O padrão de nome deve ser em snake case.\n",
    "- Escolher nomes sugestivos.\n",
    "- Nome de constantes todo em maiúsculo."
   ]
  },
  {
   "cell_type": "code",
   "execution_count": null,
   "metadata": {},
   "outputs": [],
   "source": [
    "nome = \"Guilherme\"\n",
    "idade = \"28\"\n",
    "\n",
    "nome, idade = \"Giovanna\", 27\n",
    "\n",
    "print(nome, idade)\n",
    "\n",
    "limite_saque_diario = 1000\n",
    "\n",
    "BRAZILLIAN_STATES = [\"SP\", \"RJ\", \"SC\", \"RS\"]\n",
    "\n",
    "print(BRAZILLIAN_STATES)"
   ]
  },
  {
   "cell_type": "markdown",
   "metadata": {},
   "source": [
    "### Convertendo tipos\n",
    "Em alguns momentos é necessário converter o tipo de uma variável para manipular de forma diferente. Por exemplo:\n",
    "Váriaveis do tipo string, que armazenam números e precisamos fazer alguma operação matemática com esse valor."
   ]
  },
  {
   "cell_type": "markdown",
   "metadata": {},
   "source": [
    "### Inteiro para float"
   ]
  },
  {
   "cell_type": "code",
   "execution_count": null,
   "metadata": {},
   "outputs": [],
   "source": [
    "preco = 10\n",
    "print(preco)\n",
    "\n",
    "preco = float(preco)\n",
    "print(preco)\n",
    "\n",
    "preco = 10 / 2\n",
    "print(preco)"
   ]
  },
  {
   "cell_type": "markdown",
   "metadata": {},
   "source": [
    "### Float para inteiro"
   ]
  },
  {
   "cell_type": "code",
   "execution_count": null,
   "metadata": {},
   "outputs": [],
   "source": [
    "preco = 10.30\n",
    "print(preco)\n",
    "\n",
    "preco = int(preco)\n",
    "print(preco)"
   ]
  },
  {
   "cell_type": "markdown",
   "metadata": {},
   "source": [
    "### Conversão por divisão"
   ]
  },
  {
   "cell_type": "code",
   "execution_count": null,
   "metadata": {},
   "outputs": [],
   "source": [
    "preco = 10\n",
    "print(preco)\n",
    "\n",
    "print(preco / 2)\n",
    "\n",
    "print(preco // 2)"
   ]
  },
  {
   "cell_type": "markdown",
   "metadata": {},
   "source": [
    "### Numérico para string"
   ]
  },
  {
   "cell_type": "code",
   "execution_count": null,
   "metadata": {},
   "outputs": [],
   "source": [
    "preco = 10.50\n",
    "idade = 28\n",
    "\n",
    "print(str(preco))\n",
    "\n",
    "print(str(idade))\n",
    "\n",
    "texto = f\"idade {idade} preco {preco}\"\n",
    "print(texto)"
   ]
  },
  {
   "cell_type": "markdown",
   "metadata": {},
   "source": [
    "### String para número"
   ]
  },
  {
   "cell_type": "code",
   "execution_count": null,
   "metadata": {},
   "outputs": [],
   "source": [
    "preco = \"10.50\"\n",
    "idade = \"28\"\n",
    "\n",
    "print(float(preco))\n",
    "\n",
    "print(int(idade))"
   ]
  },
  {
   "cell_type": "code",
   "execution_count": null,
   "metadata": {},
   "outputs": [],
   "source": [
    "print(int(1.97348728))\n",
    "print(int(\"10\"))\n",
    "print(float(\"10.10\"))\n",
    "print(float(100))\n",
    "\n",
    "valor = 10\n",
    "valor_str =str(valor)\n",
    "print(type(valor))\n",
    "print(type(valor_str))\n",
    "\n",
    "print(100 / 2)\n",
    "print(100 // 2)\n"
   ]
  },
  {
   "cell_type": "markdown",
   "metadata": {},
   "source": [
    "### Função input\n",
    "A função builtin *input* é utilizada quando queremos ler dados da entrada padrão (teclado). Ela recebe um argumento do tipo string, que é exibido para o usuário na saída padrão (tela). A função lê a entrada, converte para string e retorna o valor."
   ]
  },
  {
   "cell_type": "code",
   "execution_count": null,
   "metadata": {},
   "outputs": [],
   "source": [
    "nome = input(\"Informe o seu nome: \")"
   ]
  },
  {
   "cell_type": "markdown",
   "metadata": {},
   "source": [
    "### Função print\n",
    "A função builtin *print* é utilizada quando queremos exibir dados na saída padrão (tela). Ela recebe um argumento obrigatório do tipo varargs de objetos e 4 argumentos opcionais (sep, end, file e flush). Todos os objetos são convertidos para string, separados por *sep* e terminados por *end*. A string final é exibida para o usuário."
   ]
  },
  {
   "cell_type": "code",
   "execution_count": null,
   "metadata": {},
   "outputs": [],
   "source": [
    "nome = \"Guilherme\"\n",
    "sobrenome = \"Carvalho\"\n",
    "\n",
    "print(nome, sobrenome)\n",
    "print(nome, sobrenome, end=\"...\\n\")\n",
    "print(nome, sobrenome, sep=\"#\")\n"
   ]
  },
  {
   "cell_type": "code",
   "execution_count": null,
   "metadata": {},
   "outputs": [],
   "source": [
    "nome = input(\"Informe o seu nome: \")\n",
    "idade = input(\"Informe a sua idade: \")\n",
    "\n",
    "print(nome, idade)\n",
    "print(nome, idade, end=\"...\\n\")\n",
    "print(nome, idade, sep=\"#\", end=\"...\\n\")\n",
    "print(nome, idade, sep=\"#\")"
   ]
  },
  {
   "cell_type": "markdown",
   "metadata": {},
   "source": [
    "## Operadores Aritméticos\n",
    "### O que são?\n",
    "Os operadores aritméticos executam operações matemáticas, como adição, subtração com operandos.\n",
    "\n",
    "### Adição, subtração, multiplicação, divisão, divisão inteira, módulo e exponenciação"
   ]
  },
  {
   "cell_type": "code",
   "execution_count": null,
   "metadata": {},
   "outputs": [],
   "source": [
    "# Adição\n",
    "print(1 + 1)\n",
    "\n",
    "# Subtração\n",
    "print(10 - 2)\n",
    "\n",
    "# Multiplicação\n",
    "print(4 * 3)\n",
    "\n",
    "# Divisão\n",
    "print(12 / 3)\n",
    "\n",
    "# Divisão inteira\n",
    "print(12 // 2)\n",
    "\n",
    "# Módulo\n",
    "print(10 % 3)\n",
    "\n",
    "# Exponenciação\n",
    "print(2 ** 3)"
   ]
  },
  {
   "cell_type": "markdown",
   "metadata": {},
   "source": [
    "## Precedência\n",
    "#### Na matemática\n",
    "Na matemática existe uma regra que indica quais operações devem ser executadas primeiro. Isso é útil pois ao analisar uma expressão, a depender da ordem das operações o valor pode ser diferente:\n",
    "x = 10 - 5 * 2\n",
    "\n",
    "A definição inidica a seguinte ordem como a correta:\n",
    "- Parêntesis\n",
    "- Expoêntes\n",
    "- Multiplicações e divisões (da esquerda para a direita)\n",
    "- Somas e subtrações (da esquerda para a direita)"
   ]
  },
  {
   "cell_type": "code",
   "execution_count": null,
   "metadata": {},
   "outputs": [],
   "source": [
    "print(10 - 5 * 2)\n",
    "\n",
    "print((10 - 5) * 2)\n",
    "\n",
    "print(10 ** 2 * 2)\n",
    "\n",
    "print(10 ** (2 * 2))\n",
    "\n",
    "print(10 / 2 * 4)"
   ]
  },
  {
   "cell_type": "code",
   "execution_count": null,
   "metadata": {},
   "outputs": [],
   "source": [
    "produto_1 = 20\n",
    "produto_2 = 10\n",
    "\n",
    "print(produto_1 + produto_2)\n",
    "print(produto_1 - produto_2)\n",
    "print(produto_1 / produto_2)\n",
    "print(produto_1 // produto_2)\n",
    "print(produto_1 * produto_2)\n",
    "print(produto_1 % produto_2)\n",
    "print(produto_1 ** produto_2)\n",
    "\n",
    "x = (10 + 5) * 4\n",
    "y = (10 / 2) + 25 * ((2 - 2) ** 2)\n",
    "print(x)\n",
    "print(y)"
   ]
  },
  {
   "cell_type": "markdown",
   "metadata": {},
   "source": [
    "## Operadores de comparação\n",
    "### O que são?\n",
    "São operadores utilizados para comparar dois valores.\n",
    "\n",
    "### Igualdade, diferença, maior que / maior ou igual, menor que / menor ou igual"
   ]
  },
  {
   "cell_type": "code",
   "execution_count": null,
   "metadata": {},
   "outputs": [],
   "source": [
    "saldo = 450\n",
    "saque = 200\n",
    "\n",
    "# Igualdade \n",
    "print(saldo == saque)\n",
    "\n",
    "# Diferença\n",
    "print(saldo != saque)\n",
    "\n",
    "# Maior que\n",
    "print(saldo > saque)\n",
    "\n",
    "# Maior ou igual\n",
    "print(saldo >= saque)\n",
    "\n",
    "# Menor que\n",
    "print(saldo < saque)\n",
    "\n",
    "# Menor ou igual\n",
    "print(saldo <= saque)"
   ]
  },
  {
   "cell_type": "code",
   "execution_count": null,
   "metadata": {},
   "outputs": [],
   "source": [
    "saldo = 200\n",
    "saque = 200\n",
    "\n",
    "print(saldo == saque)\n",
    "print(saldo != saque)\n",
    "print(saldo > saque)\n",
    "print(saldo >= saque)\n",
    "print(saldo < saque)\n",
    "print(saldo <= saque)"
   ]
  },
  {
   "cell_type": "markdown",
   "metadata": {},
   "source": [
    "## Operadores de atribuição\n",
    "### O que são?\n",
    "São operadores utilizados para definir o valor inicial ou sobrescrever o valor de uma variável.\n",
    "\n",
    "### Atribuição simples, atruibuição com adição, atribuição com subtração, atruibuição com multiplicação, atribuição com divisão, atruibuição com divisão inteira, atruibuição com módulo e atruibuição com exponenciação"
   ]
  },
  {
   "cell_type": "code",
   "execution_count": null,
   "metadata": {},
   "outputs": [],
   "source": [
    "saldo = 500\n",
    "saldo += 200\n",
    "saldo -= 200\n",
    "saldo *= 2\n",
    "saldo /= 5\n",
    "saldo //= 5\n",
    "saldo %= 480\n",
    "saldo **= 2\n",
    "\n",
    "print(saldo)"
   ]
  },
  {
   "cell_type": "code",
   "execution_count": null,
   "metadata": {},
   "outputs": [],
   "source": [
    "saldo = 500\n",
    "\n",
    "print(saldo)\n",
    "\n",
    "saldo = 200\n",
    "\n",
    "print(saldo)\n",
    "\n",
    "saldo += 10\n",
    "print(saldo)\n",
    "\n",
    "saldo -= 5\n",
    "print(saldo)\n",
    "\n",
    "saldo /= 2\n",
    "print(saldo)\n",
    "\n",
    "saldo //= 2\n",
    "print(saldo)\n",
    "\n",
    "saldo *= 10\n",
    "print(saldo)\n",
    "\n",
    "saldo %= 4\n",
    "print(saldo)\n",
    "\n",
    "saldo **= 2\n",
    "print(saldo)"
   ]
  },
  {
   "cell_type": "markdown",
   "metadata": {},
   "source": [
    "## Operadores lógicos\n",
    "### O que são?\n",
    "São operadores utiliados em conjunto com os operadores de comparação, para montar uma expressão lógica. Quando um operador de comparação é utilizado, o resultado retornado é um booleano, dessa forma podemos combinar operadores de comparação com os operadores lógicos, exemplo:\n",
    "os_comparacao + op_logico + op_comparacao...N...\n",
    "\n",
    "### Operador E, operador ou, operador negação, parênteses"
   ]
  },
  {
   "cell_type": "code",
   "execution_count": null,
   "metadata": {},
   "outputs": [],
   "source": [
    "# AND = para ser True tudo tem quer ser True\n",
    "# OR = para ser True apenas um tem que ser True\n",
    "\n",
    "print(True and True and True)\n",
    "print(True and False and True)\n",
    "print(False and False and False)\n",
    "print(True or True or True)\n",
    "print(True or False or False)\n",
    "print(False or False or False)\n",
    "\n",
    "\n",
    "saldo = 1000\n",
    "saque = 200\n",
    "limite = 100\n",
    "conta_especial = True\n",
    "contatos_emergencia = []\n",
    "\n",
    "\n",
    "# Operador E\n",
    "saldo >= saque and saque <= limite\n",
    "\n",
    "# Operador Ou\n",
    "saldo >= saque or saque <= limite\n",
    "\n",
    "# Operador Negação\n",
    "not 1000 > 1500\n",
    "\n",
    "not contatos_emergencia\n",
    "\n",
    "not \"saquer 1500;\"\n",
    "\n",
    "not \"\"\n",
    "\n",
    "exp = saldo >= saque and saque <= limite or conta_especial and saldo >= saque\n",
    "print(exp)\n",
    "\n",
    "exp_2 = (saldo >= saque and saque <= limite) or (conta_especial and saldo >= saque)\n",
    "print(exp_2)\n",
    "\n",
    "conta_normal_com_saldo_suficiente = saldo >= saque and saque <= limite\n",
    "conta_especial_com_saldo_suficiente = conta_especial and saldo >= saque\n",
    "\n",
    "exp_3 = conta_normal_com_saldo_suficiente or conta_especial_com_saldo_suficiente\n",
    "print(exp_3)"
   ]
  },
  {
   "cell_type": "markdown",
   "metadata": {},
   "source": [
    "## Operadores de identidade\n",
    "### O que são?\n",
    "São operadores utilizados para comparar se os dois objetos testados ocupam a mesma posição na memória."
   ]
  },
  {
   "cell_type": "code",
   "execution_count": null,
   "metadata": {},
   "outputs": [],
   "source": [
    "curso = \"Curso de Python\"\n",
    "nome_curso = curso\n",
    "saldo, limite = 200, 200\n",
    "\n",
    "curso is nome_curso\n",
    "\n",
    "curso is not nome_curso\n",
    "\n",
    "saldo is limite"
   ]
  },
  {
   "cell_type": "code",
   "execution_count": null,
   "metadata": {},
   "outputs": [],
   "source": [
    "saldo = 1000\n",
    "limite = 1000\n",
    "\n",
    "print(saldo is limite)\n",
    "print(saldo is not limite)"
   ]
  },
  {
   "cell_type": "markdown",
   "metadata": {},
   "source": [
    "## Operadores de associação\n",
    "### O que são?\n",
    "São operadores utilizados para verificar se um objeto está presente em uma sequência."
   ]
  },
  {
   "cell_type": "code",
   "execution_count": null,
   "metadata": {},
   "outputs": [],
   "source": [
    "curso = \"Curso de Python\"\n",
    "frutas = [\"laranja\", \"uva\", \"limão\"]\n",
    "saques = [1500, 100]\n",
    "\n",
    "\"Python\" in curso\n",
    "\n",
    "\"maçã\" not in frutas\n",
    "\n",
    "200 in saques"
   ]
  },
  {
   "cell_type": "code",
   "execution_count": null,
   "metadata": {},
   "outputs": [],
   "source": [
    "frutas = [\"limão\", \"uva\"]\n",
    "curso = \"Curso de Python\"\n",
    "\n",
    "print(\"laranja\" not in frutas)\n",
    "print(\"limão\" in frutas)\n",
    "print(\"Python\" in curso)"
   ]
  },
  {
   "cell_type": "markdown",
   "metadata": {},
   "source": [
    "## Identação e Blocos\n",
    "\n",
    "### A estética\n",
    "Identar um código é uma forma de manter o código fonte mais legível e manutenível. Mas em Python ela exerce um segundo papel, através da indentação o interpretador consegue determinar onde um bloco de comando inicia e onde ele termina.\n",
    "\n",
    "### Utilizando espaços\n",
    "Existe uma convenção em Python, que define as boas práticas para escrita de código na linguagem. Nesse documento é indicado utilizar 4 espaços em branco por nível de indentação, ou seja, a cada novo bloco adicionamos 4 novos espaços em branco."
   ]
  },
  {
   "cell_type": "code",
   "execution_count": null,
   "metadata": {},
   "outputs": [],
   "source": [
    "def sacar(self, valor: float) -> None:\n",
    "    \n",
    "    if self.saldo >= valor:\n",
    "        self.saldo -= valor"
   ]
  },
  {
   "cell_type": "code",
   "execution_count": null,
   "metadata": {},
   "outputs": [],
   "source": [
    "def sacar(valor):\n",
    "    saldo = 500\n",
    "\n",
    "    if saldo >= valor:\n",
    "        print(\"valor sacado\")\n",
    "        print(\"retire o seu dinheiro na boca do caixa.\")\n",
    "\n",
    "    print(\"Obrigado por ser nosso cliente, tenha um bom dia!\")\n",
    "\n",
    "\n",
    "def depositar(valor):\n",
    "    saldo = 500\n",
    "    saldo += valor\n",
    "\n",
    "sacar(100)"
   ]
  },
  {
   "cell_type": "markdown",
   "metadata": {},
   "source": [
    "## Estruturas Condicionais\n",
    "\n",
    "### O que são?\n",
    "A estrutura condicional permite o desvio de fluxo de controle, quando determinadas expressões lógicas são atendidas.\n",
    "\n",
    "### If\n",
    "Para criar uma estrutura condicional simples, composta por um único desvio, podemos utilizar a palavra reservada if. O comando irá testar a expressão lógica, e em caso de retorno verdadeiro as ações presentes no bloco de código do if serão executadas."
   ]
  },
  {
   "cell_type": "code",
   "execution_count": null,
   "metadata": {},
   "outputs": [],
   "source": [
    "saldo = 2000.0\n",
    "saque = float(input(\"Informe o valor do saque: \"))\n",
    "\n",
    "if saldo >= saque:\n",
    "    print(\"Realizando saque!\")\n",
    "\n",
    "if saldo < saque:\n",
    "    print(\"Saldo insuficiente!\")"
   ]
  },
  {
   "cell_type": "markdown",
   "metadata": {},
   "source": [
    "### if/else\n",
    "Para criar uma estrutura condicional com dois desvios, podemos utilizar as palavras reservadas if e else. Como sabemos se a expressão lógica testada no if for verdadeira, então o bloco de código do if sera executado. Caso contrário o bloco de código do else será executado."
   ]
  },
  {
   "cell_type": "code",
   "execution_count": null,
   "metadata": {},
   "outputs": [],
   "source": [
    "saldo = 2000.0\n",
    "saque = float(input(\"Informe o valor do saque: \"))\n",
    "\n",
    "if saldo >= saque:\n",
    "    print(\"Realizando saque!\")\n",
    "\n",
    "else:\n",
    "    print(\"Saldo insuficiente!\")"
   ]
  },
  {
   "cell_type": "markdown",
   "metadata": {},
   "source": [
    "### if/elif/else\n",
    "Em alguns cenários queremos mais de dois desvios, para isso podemos utilizar a palavra reservada elif. O elif é composto por uma nova expressão lógica, que será testada e caso retorne verdadeiro o bloco de código do elif será executado. Não existe um número máximo de elifs que podemos utilziar, porém evite criar grandes estruturas condicionais, pois elas aumentam a complexidade do código."
   ]
  },
  {
   "cell_type": "code",
   "execution_count": null,
   "metadata": {},
   "outputs": [],
   "source": [
    "import sys\n",
    "\n",
    "opcao = int(input(\"Informe uma opção: [1] sacar \\n[2] Extrato: \"))\n",
    "\n",
    "if opcao == 1:\n",
    "    valor = float(input(\"Informe a quantia para o saque: \"))\n",
    "\n",
    "elif opcao == 2:\n",
    "    print(\"Exibindo o extrato...\")\n",
    "\n",
    "else:\n",
    "    sys.exit(\"Opção inválida\")"
   ]
  },
  {
   "cell_type": "code",
   "execution_count": null,
   "metadata": {},
   "outputs": [],
   "source": [
    "MAIOR_IDADE = 18\n",
    "IDADE_ESPECIAL = 17\n",
    "\n",
    "idade = int(input(\"Informe sua idade: \"))\n",
    "\n",
    "if idade >= MAIOR_IDADE:\n",
    "    print(\"Maior de idade, pode tirar a CNH.\")\n",
    "\n",
    "if idade < MAIOR_IDADE:\n",
    "    print(\"Ainda não pode tirar a CNH.\")\n",
    "\n",
    "if idade >= MAIOR_IDADE:\n",
    "    print(\"Maior de idade, pode tirar a CNH.\")\n",
    "\n",
    "elif idade == IDADE_ESPECIAL:\n",
    "    print(\"Pode fazer aulas teóricas, mas não pode fazer aulas práticas.\")\n",
    "\n",
    "else:\n",
    "    print(\"Ainda não pode tirar a CNH.\")\n",
    "\n"
   ]
  },
  {
   "cell_type": "markdown",
   "metadata": {},
   "source": [
    "### if aninhado\n",
    "Podemos criar estruturas condicionais aninhadas, para isso basta adicionar estruturas if/elif/else dentro do bloco de código de estruturas if/elif/else."
   ]
  },
  {
   "cell_type": "code",
   "execution_count": null,
   "metadata": {},
   "outputs": [],
   "source": [
    "conta_normal = False\n",
    "conta_universitaria = False\n",
    "\n",
    "saldo = 2000\n",
    "saque = 500\n",
    "cheque_especial = 450\n",
    "\n",
    "if conta_normal:\n",
    "    if saldo >= saque:\n",
    "        print(\"Saque realizado com sucesso!\")\n",
    "    \n",
    "    elif saque <= (saldo + cheque_especial):\n",
    "        print(\"Saque realizado com uso do cheque especial!\")\n",
    "\n",
    "    else:\n",
    "        print(\"Não foi possível realizar o saque, saldo insuficiente!\")\n",
    "\n",
    "elif conta_universitaria:\n",
    "    if saldo >= saque:\n",
    "        print(\"Saque realizado com sucesso!\")\n",
    "    \n",
    "    else:\n",
    "        print(\"Saldo insuficiente!\")\n",
    "\n",
    "else:\n",
    "    print(\"Sistema não reconheceu seu tipo de conta, entre em contato com o seu gerente.\")"
   ]
  },
  {
   "cell_type": "markdown",
   "metadata": {},
   "source": [
    "### if ternário\n",
    "O if ternário permite escrever uma condição em uma única linha. Ele é composto por três partes, a primeira parte é o retorno caso a expressão retorne verdadeiro, a segunda parte é a expressão lógica e a terceira parte é o retorno caso a expressão não seja atendida."
   ]
  },
  {
   "cell_type": "code",
   "execution_count": null,
   "metadata": {},
   "outputs": [],
   "source": [
    "saldo = 2000\n",
    "saque = 2500\n",
    "\n",
    "status = \"Sucesso\" if saldo >= saque else \"Falha\"\n",
    "\n",
    "print(f\"{status} ao realizar o saque!\")"
   ]
  },
  {
   "cell_type": "markdown",
   "metadata": {},
   "source": [
    "## Estruturas de repetição\n",
    "\n",
    "### O que são estruturas de repetição?\n",
    "São estruturas utilizadas para repetir um trecho de código um determinado número de vezes. Esse número pode ser conhecido previamente ou determinado através de uma expressão lógica.\n",
    "\n",
    "### Comando for\n",
    "O comando for é usado para percorrer um objeto iterável. Faz sentido usar for quando sabemos o número exato de vezes que o nosso bloco de código deve ser executado, ou quando queremos percorrer um objeto iterável."
   ]
  },
  {
   "cell_type": "code",
   "execution_count": null,
   "metadata": {},
   "outputs": [],
   "source": [
    "texto = input(\"Informe um texto: \")\n",
    "VOGAIS = \"AEIOU\"\n",
    "\n",
    "for letra in texto:\n",
    "    if letra.upper() in VOGAIS:\n",
    "        print(letra, end=\"\")\n",
    "\n",
    "else:\n",
    "  print(\"Executa no final do laço\")"
   ]
  },
  {
   "cell_type": "markdown",
   "metadata": {},
   "source": [
    "### Função range\n",
    "Range é uma função built-in do Python, ela é usada para produzir uma sequência de números inteiros a partir de um ínicio (inclusivo) para um fim (exclusivo). Se usarmos range(i,j) sera produzido:\n",
    "\n",
    "i, i+1, i+2, i+3, ..., j-1.\n",
    "\n",
    "Ela recebe 3 argumentos: stop (obrigatório), start (opcional) e step (opcional)."
   ]
  },
  {
   "cell_type": "code",
   "execution_count": null,
   "metadata": {},
   "outputs": [],
   "source": [
    "for numero in range(0, 11):\n",
    "    print(numero, end=\" \")\n",
    "\n",
    "for numero in range(0, 51, 5):\n",
    "    print(numero, end=\" \")"
   ]
  },
  {
   "cell_type": "markdown",
   "metadata": {},
   "source": [
    "### Comando while\n",
    "O comando while é usado para repetir um bloco de código várias vezes. Faz sentido usar while quando não sabemos o número exato de vezes que nosso bloco de código deve ser executado."
   ]
  },
  {
   "cell_type": "code",
   "execution_count": null,
   "metadata": {},
   "outputs": [],
   "source": [
    "opcao = -1\n",
    "\n",
    "while opcao != 0:\n",
    "    opcao = int(input(\"[1] Sacar \\n[2] Extrato \\n[0] Sair \\n: \"))\n",
    "\n",
    "    if opcao == 1:\n",
    "        print(\"Sacando...\")\n",
    "    elif opcao == 2:\n",
    "        print(\"Exibindo o extrato...\")\n",
    "\n",
    "else:\n",
    "    print(\"Obrigado por usar nosso sistema bancário, até logo!\")"
   ]
  },
  {
   "cell_type": "code",
   "execution_count": null,
   "metadata": {},
   "outputs": [],
   "source": [
    "while True:\n",
    "    numero = int(input(\"Informe um número: \"))\n",
    "\n",
    "    if numero == 10:\n",
    "        break\n",
    "    \n",
    "    print(numero)"
   ]
  },
  {
   "cell_type": "markdown",
   "metadata": {},
   "source": [
    "### Conhecendo métodos úteis da classe string\n",
    "#### Introdução\n",
    "A classe String do Python é famosa por ser rica em métodos e possuir uma interface muito fácil de trabalhar.\n",
    "Em algumas linguagens manipular sequências de caracteres não é um trabalho trivial, porém, em Python esse trabalho é muito simples.\n",
    "#### Maiúscula, minúscula e título"
   ]
  },
  {
   "cell_type": "code",
   "execution_count": null,
   "metadata": {},
   "outputs": [],
   "source": [
    "curso = \"pYtHon\"\n",
    "\n",
    "print(curso.upper())\n",
    "print(curso.lower())\n",
    "print(curso.title())"
   ]
  },
  {
   "cell_type": "markdown",
   "metadata": {},
   "source": [
    "#### Eliminando espaços em branco"
   ]
  },
  {
   "cell_type": "code",
   "execution_count": null,
   "metadata": {},
   "outputs": [],
   "source": [
    "curso = \"   Python \"\n",
    "\n",
    "print(curso.strip())\n",
    "print(curso.lstrip())\n",
    "print(curso.rstrip())"
   ]
  },
  {
   "cell_type": "markdown",
   "metadata": {},
   "source": [
    "#### Junções e centralização"
   ]
  },
  {
   "cell_type": "code",
   "execution_count": null,
   "metadata": {},
   "outputs": [],
   "source": [
    "curso = \"Python\"\n",
    "\n",
    "print(curso.center(10, \"#\"))\n",
    "print(\".\".join(curso))"
   ]
  },
  {
   "cell_type": "code",
   "execution_count": null,
   "metadata": {},
   "outputs": [],
   "source": [
    "nome = \"gUIlherMe\"\n",
    "\n",
    "print(nome.upper())\n",
    "print(nome.lower())\n",
    "print(nome.title())\n",
    "\n",
    "texto = \" Olá mundo!    \"\n",
    "\n",
    "print(texto + \".\")\n",
    "print(texto.strip() + \".\")\n",
    "print(texto.rstrip() + \".\")\n",
    "print(texto.lstrip() + \".\")\n",
    "\n",
    "menu = \"Python\"\n",
    "\n",
    "print(\"####\" + menu + \"####\")\n",
    "print(menu.center(14))\n",
    "print(menu.center(20, \"#\"))\n",
    "print(\"P-y-t-h-o-n\")\n",
    "print(\"-\".join(menu))"
   ]
  },
  {
   "cell_type": "markdown",
   "metadata": {},
   "source": [
    "## Interpolação de váriáveis\n",
    "#### Introdução\n",
    "Em Python temos 3 formas de interpolar variáveis em strings, a primeira é usando o sinal %, a segunda é utilizando o método format e a última é utilizando f strings.\n",
    "\n",
    "A primeira forma não é atualmente recomendada e seu uso em Python 3 é raro, por esse motivo iremos focar nas 2 últimas.\n",
    "#### Old style %"
   ]
  },
  {
   "cell_type": "code",
   "execution_count": null,
   "metadata": {},
   "outputs": [],
   "source": [
    "nome = \"Guilherme\"\n",
    "idade = 28\n",
    "profissao = \"Programador\"\n",
    "linguagem = \"Python\"\n",
    "\n",
    "print(\"Olá, me chamo %s. Eu tenho %d anos de idade, trabalho como %s e estou matriculado no curso de %s.\" % (nome, idade, profissao, linguagem))"
   ]
  },
  {
   "cell_type": "markdown",
   "metadata": {},
   "source": [
    "#### Método format"
   ]
  },
  {
   "cell_type": "code",
   "execution_count": null,
   "metadata": {},
   "outputs": [],
   "source": [
    "nome = \"Guilherme\"\n",
    "idade = 28\n",
    "profissao = \"Programador\"\n",
    "linguagem = \"Python\"\n",
    "pessoa = {\"nome\": \"Guilherme\", \"idade\": 28, \"profissao\": \"Programador\", \"linguagem\": \"Python\"}\n",
    "\n",
    "print(\"Olá, me chamo {}. Eu tenho {} anos de idade, trabalho como {} e estou matriculado no curso de {}.\".format(nome, idade, profissao, linguagem))\n",
    "\n",
    "print(\"Olá, me chamo {3}. Eu tenho {2} anos de idade, trabalho como {1} e estou matriculado no curso de {0}.\".format(linguagem, profissao, idade, nome))\n",
    "\n",
    "print(\"Olá, me chamo {nome}. Eu tenho {idade} anos de idade, trabalho como {profissao} e estou matriculado no curso de {linguagem}.\".format(nome=nome, idade=idade, profissao=profissao, linguagem=linguagem))\n",
    "\n",
    "print(\"Olá, me chamo {nome}. Eu tenho {idade} anos de idade, trabalho como {profissao} e estou matriculado no curso de {linguagem}.\".format(**pessoa))"
   ]
  },
  {
   "cell_type": "markdown",
   "metadata": {},
   "source": [
    "#### f-string"
   ]
  },
  {
   "cell_type": "code",
   "execution_count": null,
   "metadata": {},
   "outputs": [],
   "source": [
    "nome = \"Guilherme\"\n",
    "idade = 28\n",
    "profissao = \"Programador\"\n",
    "linguagem = \"Python\"\n",
    "\n",
    "print(f\"Olá, me chamo {nome}. Eu tenho {idade} anos de idade, trabalho como {profissao} e estou matriculado no curso de {linguagem}.\")"
   ]
  },
  {
   "cell_type": "markdown",
   "metadata": {},
   "source": [
    "#### Formatar strings com f-strings"
   ]
  },
  {
   "cell_type": "code",
   "execution_count": null,
   "metadata": {},
   "outputs": [],
   "source": [
    "PI = 3.14159\n",
    "\n",
    "print(f\"Valor de PI: {PI:.2f}\")\n",
    "\n",
    "print(f\"Valor de PI: {PI:10.2f}\")"
   ]
  },
  {
   "cell_type": "code",
   "execution_count": null,
   "metadata": {},
   "outputs": [],
   "source": [
    "nome = \"Guilherme\"\n",
    "idade = 28\n",
    "profissao = \"Programador\"\n",
    "linguagem = \"Python\"\n",
    "saldo = 45.435\n",
    "\n",
    "dados = {\"nome\": \"Guilherme\", \"idade\": 28}\n",
    "\n",
    "print(\"Nome: %s Idade: %d\" % (nome, idade))\n",
    "print(\"Nome: {} Idade: {}\".format(nome, idade))\n",
    "print(\"Nome: {1} Idade: {0}\".format(idade, nome))\n",
    "print(\"Nome: {1} Idade: {0} Nome: {1} {1}\".format(idade, nome))\n",
    "print(\"Nome: {nome} Idade: {idade}\".format(nome=nome, idade=idade))\n",
    "print(\"Nome: {name} Idade: {age} {name} {name} {age}\".format(age=idade, name=nome))\n",
    "print(\"Nome: {nome} Idade: {idade}\".format(**dados))\n",
    "\n",
    "print(f\"Nome: {nome} Idade: {idade} Saldo; {saldo:.2f}\")\n",
    "print(f\"Nome: {nome} Idade: {idade} Saldo; {saldo:10.2f}\")"
   ]
  },
  {
   "cell_type": "markdown",
   "metadata": {},
   "source": [
    "## Fatiamento de string\n",
    "#### Introdução\n",
    "Fatiamento de strings é uma técnica utilizada para retoranr substrings (partes da string original), informando o inicio (start), fim (stop) e passo (step): [start: stop[, step]].\n",
    "#### Fatiamento"
   ]
  },
  {
   "cell_type": "code",
   "execution_count": null,
   "metadata": {},
   "outputs": [],
   "source": [
    "nome = \"Guilherme Arthur de Carvalho\"\n",
    "\n",
    "print(nome[0])\n",
    "print(nome[:9])\n",
    "print(nome[10:])\n",
    "print(nome[10:16])\n",
    "print(nome[10:16:2])\n",
    "print(nome[:])\n",
    "print(nome[::-1])"
   ]
  },
  {
   "cell_type": "markdown",
   "metadata": {},
   "source": [
    "## String múltiplas linhas\n",
    "#### Introdução\n",
    "Strings de múltiplas linhas são definidas informando 3 aspas simples ou duplas durante a atribuição. Elas podem ocupar várias linhas do código, e todos os espaços em branco são incluídos na string final.\n",
    "#### Strings triplas"
   ]
  },
  {
   "cell_type": "code",
   "execution_count": null,
   "metadata": {},
   "outputs": [],
   "source": [
    "nome = \"Guilherme\"\n",
    "\n",
    "mensagem = f\"\"\"\n",
    "Olá meu nome é {nome}, eu estou aprendendo Python\n",
    "\"\"\"\n",
    "print(mensagem)\n",
    "\n",
    "mensagem = f'''\n",
    "   Olá meu nome é {nome},\n",
    " eu estou aprendendo Python.\n",
    "     Essa mensagem tem diversos recuos.\n",
    "'''\n",
    "\n",
    "print(mensagem)\n",
    "\n",
    "print(\"\"\"\n",
    "   ============= MENU =============\n",
    "      \n",
    "   1 - Depositar\n",
    "   2 - Sacar\n",
    "   0 - Sair\n",
    "\n",
    "   ================================    \n",
    "          \n",
    "          Obrigado por usar nosso sistema!!!!\n",
    "\"\"\")"
   ]
  },
  {
   "cell_type": "markdown",
   "metadata": {},
   "source": [
    "## Listas\n",
    "#### Criando listas\n",
    "Listas em Python podem armazenar de maneira sequencial qualquer tipo de objeto. Podemos criar listas utilizando o construtor list, a função range ou colocando valores separados por vírgula dentro de colchetes. Listas são objetos mutáveis, portanto podemos alterar seus valores após a criação."
   ]
  },
  {
   "cell_type": "code",
   "execution_count": null,
   "metadata": {},
   "outputs": [],
   "source": [
    "frutas = [\"laranja\", \"maca\", \"uva\"]\n",
    "print(frutas)\n",
    "\n",
    "frutas = []\n",
    "print(frutas)\n",
    "\n",
    "letras = list(\"python\")\n",
    "print(letras)\n",
    "\n",
    "numeros = list(range(10))\n",
    "print(numeros)\n",
    "\n",
    "carro = [\"Ferrari\", \"F8\", 4200000, 2020, 2900, \"São Paulo\", True]\n",
    "print(carro)"
   ]
  },
  {
   "cell_type": "markdown",
   "metadata": {},
   "source": [
    "#### Acesso direto\n",
    "A lista é ma sequência, portanto podmeos acessar seus dados utilizando índices. Contamos o índice de determinada sequência a partir do zero."
   ]
  },
  {
   "cell_type": "code",
   "execution_count": null,
   "metadata": {},
   "outputs": [],
   "source": [
    "frutas = [\"maçã\", \"laranja\", \"uva\", \"pera\"]\n",
    "print(frutas[0])\n",
    "print(frutas[2])"
   ]
  },
  {
   "cell_type": "markdown",
   "metadata": {},
   "source": [
    "#### Índices negativos\n",
    "Sequências suportam indexação negativa. A contagem começa em -1."
   ]
  },
  {
   "cell_type": "code",
   "execution_count": null,
   "metadata": {},
   "outputs": [],
   "source": [
    "frutas = [\"maçã\", \"laranja\", \"uva\", \"pera\"]\n",
    "print(frutas[-1])\n",
    "print(frutas[-3])"
   ]
  },
  {
   "cell_type": "markdown",
   "metadata": {},
   "source": [
    "#### Listas aninhadas\n",
    "Listas podem armazenar todos os tipos de objetos Python, portanto podemos ter listas que armazenam outras listas. Com isso podemos criar estruturas bidimensionais (tabelas), e acessar informando os índices de linha e coluna."
   ]
  },
  {
   "cell_type": "code",
   "execution_count": null,
   "metadata": {},
   "outputs": [],
   "source": [
    "matriz = [\n",
    "    [1, \"a\", 2],\n",
    "    [\"b\", 3, 4],\n",
    "    [6, 5, \"c\"]\n",
    "]\n",
    "\n",
    "print(matriz[0])\n",
    "print(matriz[0][0])\n",
    "print(matriz[0][-1])\n",
    "print(matriz[-1][-1])"
   ]
  },
  {
   "cell_type": "markdown",
   "metadata": {},
   "source": [
    "#### Fatiamento\n",
    "Além de acessar elementos diretamente, podemos extrair um conjunto de valores de uma sequência. Para isso basta passar o índice inicial e/ou final para acessar o conjunto. Podemos ainda informar quantas posições o cursor deve \"pular\" no acesso."
   ]
  },
  {
   "cell_type": "code",
   "execution_count": null,
   "metadata": {},
   "outputs": [],
   "source": [
    "lista = [\"p\", \"y\", \"t\", \"h\", \"o\", \"n\"]\n",
    "\n",
    "print(lista[2:])\n",
    "print(lista[:2])\n",
    "print(lista[1:3])\n",
    "print(lista[0:3:2])\n",
    "print(lista[::])\n",
    "print(lista[::-1])"
   ]
  },
  {
   "cell_type": "markdown",
   "metadata": {},
   "source": [
    "#### Iterar listas\n",
    "A forma mais comum para percorrer os dados de uma lista é utilizando o comando for."
   ]
  },
  {
   "cell_type": "code",
   "execution_count": null,
   "metadata": {},
   "outputs": [],
   "source": [
    "carros = [\"gol\", \"celta\", \"palio\"]\n",
    "\n",
    "for carro in carros:\n",
    "  print(carro)\n",
    "\n",
    "for indice, carro in enumerate(carros):\n",
    "  print(f\"{indice}: {carro}\")"
   ]
  },
  {
   "cell_type": "markdown",
   "metadata": {},
   "source": [
    "#### Compreensão de listas\n",
    "A compreensão de lista oferece uma sintaxe mais curta quando você deseja: criar uma nova lista com base nos valores de uma lista existente (filtro) ou gerar uma nova lista aplicando alguma modificação nos elementos de uma lista existente.\n",
    "\n",
    "#### Filtros"
   ]
  },
  {
   "cell_type": "code",
   "execution_count": null,
   "metadata": {},
   "outputs": [],
   "source": [
    "numeros = [1, 30, 21, 2, 9, 65, 34]\n",
    "pares = []\n",
    "\n",
    "for numero in numeros:\n",
    "  if numero % 2 == 0:\n",
    "    pares.append(numero)\n",
    "\n",
    "numeros = [1, 30, 21, 2, 9, 65, 34]\n",
    "pares = [numero for numero in numeros if numero % 2 == 0]"
   ]
  },
  {
   "cell_type": "markdown",
   "metadata": {},
   "source": [
    "#### Modificando valores"
   ]
  },
  {
   "cell_type": "code",
   "execution_count": null,
   "metadata": {},
   "outputs": [],
   "source": [
    "numeros = [1, 30, 21, 2, 9, 65, 34]\n",
    "quadrado = []\n",
    "\n",
    "for numero in numero:\n",
    "  quadrado.append(numero ** 2)\n",
    "\n",
    "numeros = [1, 30, 21, 2, 9, 65, 34]\n",
    "quadrado = [numero ** 2 for numero in numeros]"
   ]
  },
  {
   "cell_type": "markdown",
   "metadata": {},
   "source": [
    "### Métodos da classe list\n",
    "#### [].append"
   ]
  },
  {
   "cell_type": "code",
   "execution_count": null,
   "metadata": {},
   "outputs": [],
   "source": [
    "lista = []\n",
    "\n",
    "lista.append(1)\n",
    "lista.append(\"Python\")\n",
    "lista.append([40, 30, 20])\n",
    "\n",
    "print(lista)"
   ]
  },
  {
   "cell_type": "markdown",
   "metadata": {},
   "source": [
    "#### [].clear"
   ]
  },
  {
   "cell_type": "code",
   "execution_count": null,
   "metadata": {},
   "outputs": [],
   "source": [
    "lista = [1, \"Python\", [40, 30, 20]]\n",
    "print(lista)\n",
    "\n",
    "lista.clear()\n",
    "print(lista)"
   ]
  },
  {
   "cell_type": "markdown",
   "metadata": {},
   "source": [
    "#### [].copy"
   ]
  },
  {
   "cell_type": "code",
   "execution_count": null,
   "metadata": {},
   "outputs": [],
   "source": [
    "lista = [1, \"Python\", [40, 30, 20]]\n",
    "\n",
    "l2 = lista.copy()\n",
    "\n",
    "print(lista)\n",
    "\n",
    "print(id(l2), id(lista))\n",
    "\n",
    "l2[0] = 2\n",
    "\n",
    "print(l2)\n",
    "print(lista)"
   ]
  },
  {
   "cell_type": "markdown",
   "metadata": {},
   "source": [
    "#### [].count"
   ]
  },
  {
   "cell_type": "code",
   "execution_count": null,
   "metadata": {},
   "outputs": [],
   "source": [
    "cores = [\"vermelho\", \"azul\", \"verde\", \"azul\"]\n",
    "\n",
    "cores.count(\"vermelho\")\n",
    "cores.count(\"azul\")\n",
    "cores.count(\"verde\")"
   ]
  },
  {
   "cell_type": "markdown",
   "metadata": {},
   "source": [
    "#### [].extend"
   ]
  },
  {
   "cell_type": "code",
   "execution_count": null,
   "metadata": {},
   "outputs": [],
   "source": [
    "linguagens = [\"python\", \"js\", \"c\"]\n",
    "\n",
    "print(linguagens)\n",
    "\n",
    "linguagens.extend([\"java\", \"csharp\"])\n",
    "\n",
    "print(linguagens)"
   ]
  },
  {
   "cell_type": "markdown",
   "metadata": {},
   "source": [
    "#### [].index"
   ]
  },
  {
   "cell_type": "code",
   "execution_count": null,
   "metadata": {},
   "outputs": [],
   "source": [
    "linguagens = [\"python\", \"js\", \"c\", \"java\", \"csharp\"]\n",
    "\n",
    "linguagens.index(\"java\")\n",
    "linguagens.index(\"python\")"
   ]
  },
  {
   "cell_type": "markdown",
   "metadata": {},
   "source": [
    "#### [].pop"
   ]
  },
  {
   "cell_type": "code",
   "execution_count": null,
   "metadata": {},
   "outputs": [],
   "source": [
    "linguagens = [\"python\", \"js\", \"c\", \"java\", \"csharp\"]\n",
    "\n",
    "linguagens.pop()\n",
    "linguagens.pop()\n",
    "linguagens.pop()\n",
    "linguagens.pop(0)"
   ]
  },
  {
   "cell_type": "markdown",
   "metadata": {},
   "source": [
    "#### [].remove"
   ]
  },
  {
   "cell_type": "code",
   "execution_count": null,
   "metadata": {},
   "outputs": [],
   "source": [
    "linguagens = [\"python\", \"js\", \"c\", \"java\", \"csharp\"]\n",
    "\n",
    "linguagens.remove(\"c\")\n",
    "\n",
    "print(linguagens)"
   ]
  },
  {
   "cell_type": "markdown",
   "metadata": {},
   "source": [
    "#### [].reverse"
   ]
  },
  {
   "cell_type": "code",
   "execution_count": null,
   "metadata": {},
   "outputs": [],
   "source": [
    "linguagens = [\"python\", \"js\", \"c\", \"java\", \"csharp\"]\n",
    "\n",
    "linguagens.reverse()\n",
    "\n",
    "print(linguagens)"
   ]
  },
  {
   "cell_type": "markdown",
   "metadata": {},
   "source": [
    "#### [].sort"
   ]
  },
  {
   "cell_type": "code",
   "execution_count": null,
   "metadata": {},
   "outputs": [],
   "source": [
    "linguagens = [\"python\", \"js\", \"c\", \"java\", \"csharp\"]\n",
    "linguagens.sort()\n",
    "\n",
    "linguagens = [\"python\", \"js\", \"c\", \"java\", \"csharp\"]\n",
    "linguagens.sort(reverse=True)\n",
    "\n",
    "linguagens = [\"python\", \"js\", \"c\", \"java\", \"csharp\"]\n",
    "linguagens.sort(key=lambda x: len(x))\n",
    "\n",
    "linguagens = [\"python\", \"js\", \"c\", \"java\", \"csharp\"]\n",
    "linguagens.sort(key=lambda x: len(x), reverse=True)"
   ]
  },
  {
   "cell_type": "markdown",
   "metadata": {},
   "source": [
    "#### len"
   ]
  },
  {
   "cell_type": "code",
   "execution_count": null,
   "metadata": {},
   "outputs": [],
   "source": [
    "linguagens = [\"python\", \"js\", \"c\", \"java\", \"csharp\"]\n",
    "\n",
    "len(linguagens)"
   ]
  },
  {
   "cell_type": "markdown",
   "metadata": {},
   "source": [
    "#### sorted"
   ]
  },
  {
   "cell_type": "code",
   "execution_count": null,
   "metadata": {},
   "outputs": [],
   "source": [
    "linguagens = [\"python\", \"js\", \"c\", \"java\", \"csharp\"]\n",
    "\n",
    "sorted(linguagens, key=lambda x: len(x))\n",
    "\n",
    "sorted(linguagens, key=lambda x: len(x), reverse=True)"
   ]
  },
  {
   "cell_type": "markdown",
   "metadata": {},
   "source": [
    "## Conhecendo Tuplas em Python\n",
    "#### Criando tuplas\n",
    "Tuplas são estruturas de dados muito parecidas com as listas, a principal diferença é que tuplas são imutáveis enquanto listas são mutáveis. Podemos criar tuplas através da classe tuple, ou colocando valores separados por vírgula de parenteses."
   ]
  },
  {
   "cell_type": "code",
   "execution_count": null,
   "metadata": {},
   "outputs": [],
   "source": [
    "frutas = (\"laranja\", \"pera\", \"uva\",)\n",
    "\n",
    "letras = tuple(\"python\")\n",
    "\n",
    "numeros = tuple([1, 2, 3, 4])\n",
    "\n",
    "pais = (\"Brasil\",)"
   ]
  },
  {
   "cell_type": "markdown",
   "metadata": {},
   "source": [
    "#### Acesso direto"
   ]
  },
  {
   "cell_type": "code",
   "execution_count": null,
   "metadata": {},
   "outputs": [],
   "source": [
    "frutas = (\"maçã\", \"laranja\", \"uva\", \"pera\",)\n",
    "print(frutas[0])\n",
    "print(frutas[2])"
   ]
  },
  {
   "cell_type": "markdown",
   "metadata": {},
   "source": [
    "#### Índices negativos"
   ]
  },
  {
   "cell_type": "code",
   "execution_count": null,
   "metadata": {},
   "outputs": [],
   "source": [
    "frutas = (\"maçã\", \"laranja\", \"uva\", \"pera\",)\n",
    "print(frutas[-1])\n",
    "print(frutas[-3])"
   ]
  },
  {
   "cell_type": "markdown",
   "metadata": {},
   "source": [
    "#### Tuplas aninhadas\n",
    "Tuplas podem armazenar todos os tipos de objetos Python, portanto podemos ter tuplas que armazenam outras tuplas. Com isso podemos criar estruturas bidimensionais (tabelas), e acessar informando os índices de linha e coluna."
   ]
  },
  {
   "cell_type": "code",
   "execution_count": null,
   "metadata": {},
   "outputs": [],
   "source": [
    "matriz = (\n",
    "    (1, \"a\", 2),\n",
    "    (\"b\", 3, 4),\n",
    "    (6, 5, \"c\"),\n",
    ")\n",
    "\n",
    "print(matriz[0])\n",
    "print(matriz[0][0])\n",
    "print(matriz[0][-1])\n",
    "print(matriz[-1][-1])"
   ]
  },
  {
   "cell_type": "markdown",
   "metadata": {},
   "source": [
    "#### Fatiamento"
   ]
  },
  {
   "cell_type": "code",
   "execution_count": null,
   "metadata": {},
   "outputs": [],
   "source": [
    "tupla = (\"p\", \"y\", \"t\", \"h\", \"o\", \"n\",)\n",
    "\n",
    "print(tupla[2:])\n",
    "print(tupla[:2])\n",
    "print(tupla[1:3])\n",
    "print(tupla[0:3:2])\n",
    "print(tupla[::])\n",
    "print(tupla[::-1])"
   ]
  },
  {
   "cell_type": "markdown",
   "metadata": {},
   "source": [
    "#### Iterar tuplas"
   ]
  },
  {
   "cell_type": "code",
   "execution_count": null,
   "metadata": {},
   "outputs": [],
   "source": [
    "carros = (\"gol\", \"celta\", \"palio\",)\n",
    "\n",
    "for indice, carro in enumerate(carros):\n",
    "    print(f\"{indice}: {carro}\")"
   ]
  },
  {
   "cell_type": "markdown",
   "metadata": {},
   "source": [
    "### Métodos da classe tuple\n",
    "#### ().count"
   ]
  },
  {
   "cell_type": "code",
   "execution_count": null,
   "metadata": {},
   "outputs": [],
   "source": [
    "cores = (\"vermelho\", \"azul\", \"verde\", \"azul\",)\n",
    "\n",
    "cores.count(\"vermelho\")\n",
    "cores.count(\"azul\")\n",
    "cores.count(\"verde\")"
   ]
  },
  {
   "cell_type": "markdown",
   "metadata": {},
   "source": [
    "#### ().index"
   ]
  },
  {
   "cell_type": "code",
   "execution_count": null,
   "metadata": {},
   "outputs": [],
   "source": [
    "linguagens = (\"python\", \"js\", \"c\", \"java\", \"csharp\",)\n",
    "\n",
    "linguagens.index(\"java\")\n",
    "linguagens.index(\"python\")"
   ]
  },
  {
   "cell_type": "markdown",
   "metadata": {},
   "source": [
    "#### len"
   ]
  },
  {
   "cell_type": "code",
   "execution_count": null,
   "metadata": {},
   "outputs": [],
   "source": [
    "linguagens = (\"python\", \"js\", \"c\", \"java\", \"csharp\",)\n",
    "len(linguagens)"
   ]
  },
  {
   "cell_type": "markdown",
   "metadata": {},
   "source": [
    "## Dicionários\n",
    "#### Criando dicionários\n",
    "Um dicionário é um conjunto não-ordenado de pares chave:valor, onde as chaves são únicas em uma dada instância do dicionário. Dicionários são delimitados por chaves: {}, e contém uma lista de pares chave:valor separada por vírgulas."
   ]
  },
  {
   "cell_type": "code",
   "execution_count": null,
   "metadata": {},
   "outputs": [],
   "source": [
    "pessoa = {\"nome\": \"Guilherme\", \"idade\": 28}\n",
    "\n",
    "pessoa = dict(nome=\"Guilherme\", idade=28)\n",
    "\n",
    "pessoa[\"telefone\"] = 3333-1234"
   ]
  },
  {
   "cell_type": "markdown",
   "metadata": {},
   "source": [
    "#### Acesso aos dados\n",
    "Os dados são acessados e modificados através da chave."
   ]
  },
  {
   "cell_type": "code",
   "execution_count": null,
   "metadata": {},
   "outputs": [],
   "source": [
    "dados = {\"nome\": \"Guilherme\", \"idade\": 28, \"telefone\": \"3333-1234\"}\n",
    "\n",
    "dados[\"nome\"]\n",
    "dados[\"idade\"]\n",
    "dados[\"telefone\"]\n",
    "\n",
    "dados[\"nome\"] = \"Maria\"\n",
    "dados[\"idade\"] = 18\n",
    "dados[\"telefone\"] = \"9988-1781\"\n",
    "\n",
    "dados"
   ]
  },
  {
   "cell_type": "markdown",
   "metadata": {},
   "source": [
    "#### Dicionários aninhados\n",
    "Dicionários podem armazenar qualquer tipo de objeto Python como valor, desde que a chave para esse valor seja um objeto imutável como (strings e números)."
   ]
  },
  {
   "cell_type": "code",
   "execution_count": null,
   "metadata": {},
   "outputs": [],
   "source": [
    "contatos = {\n",
    "    \"guilerme@gmail.com\": {\"nome\": \"Guilherme\", \"telefone\": \"3333-2221\"},\n",
    "    \"giovanna@gmail.com\": {\"nome\": \"Giovanna\", \"telefone\": \"3443-2121\"},\n",
    "    \"chappie@gmail.com\": {\"nome\": \"Chappie\", \"telefone\": \"3344-9871\"},\n",
    "    \"melaine@gmail.com\": {\"nome\": \"Melaine\", \"telefone\": \"3333-7766\", \"extra\": {\"a\": 1}},\n",
    "}\n",
    "\n",
    "telefone = contatos[\"giovanna@gmail.com\"][\"telefone\"]\n",
    "print(telefone)\n",
    "\n",
    "extra = contatos[\"melaine@gmail.com\"][\"extra\"][\"a\"]\n",
    "print(extra)"
   ]
  },
  {
   "cell_type": "markdown",
   "metadata": {},
   "source": [
    "#### Iterar dicionários"
   ]
  },
  {
   "cell_type": "code",
   "execution_count": null,
   "metadata": {},
   "outputs": [],
   "source": [
    "for chave in contatos:\n",
    "    print(chave, contatos[chave])\n",
    "\n",
    "for chave, valor in contatos.items():\n",
    "    print(chave, valor)"
   ]
  },
  {
   "cell_type": "markdown",
   "metadata": {},
   "source": [
    "### Métodos da classe dict\n",
    "#### {}.clear"
   ]
  },
  {
   "cell_type": "code",
   "execution_count": null,
   "metadata": {},
   "outputs": [],
   "source": [
    "contatos = {\n",
    "    \"guilerme@gmail.com\": {\"nome\": \"Guilherme\", \"telefone\": \"3333-2221\"},\n",
    "    \"giovanna@gmail.com\": {\"nome\": \"Giovanna\", \"telefone\": \"3443-2121\"},\n",
    "    \"chappie@gmail.com\": {\"nome\": \"Chappie\", \"telefone\": \"3344-9871\"},\n",
    "    \"melaine@gmail.com\": {\"nome\": \"Melaine\", \"telefone\": \"3333-7766\"},\n",
    "}\n",
    "\n",
    "contatos.clear()\n",
    "print(contatos)"
   ]
  },
  {
   "cell_type": "markdown",
   "metadata": {},
   "source": [
    "#### {}.copy"
   ]
  },
  {
   "cell_type": "code",
   "execution_count": null,
   "metadata": {},
   "outputs": [],
   "source": [
    "contatos = {\n",
    "    \"guilerme@gmail.com\": {\"nome\": \"Guilherme\", \"telefone\": \"3333-2221\"},\n",
    "}\n",
    "\n",
    "copia = contatos.copy()\n",
    "copia[\"guilherme@gmail.com\"] = {\"nome\": \"Gui\"}\n",
    "\n",
    "print(contatos[\"guilerme@gmail.com\"])\n",
    "\n",
    "print(copia[\"guilherme@gmail.com\"])"
   ]
  },
  {
   "cell_type": "markdown",
   "metadata": {},
   "source": [
    "#### {}.fromkeys"
   ]
  },
  {
   "cell_type": "code",
   "execution_count": null,
   "metadata": {},
   "outputs": [],
   "source": [
    "dict.fromkeys([\"nome\", \"telefone\"])\n",
    "\n",
    "dict.fromkeys([\"nome\", \"telefone\"], \"vazio\")"
   ]
  },
  {
   "cell_type": "markdown",
   "metadata": {},
   "source": [
    "#### {}.get"
   ]
  },
  {
   "cell_type": "code",
   "execution_count": null,
   "metadata": {},
   "outputs": [],
   "source": [
    "contatos = {\n",
    "    \"guilerme@gmail.com\": {\"nome\": \"Guilherme\", \"telefone\": \"3333-2221\"},\n",
    "}\n",
    "\n",
    "# contatos[\"chave\"]\n",
    "\n",
    "contatos.get(\"chave\")\n",
    "contatos.get(\"chave\", {})\n",
    "contatos.get(\"guilherme@gmail.com\", {})"
   ]
  },
  {
   "cell_type": "markdown",
   "metadata": {},
   "source": [
    "#### {}.items"
   ]
  },
  {
   "cell_type": "code",
   "execution_count": null,
   "metadata": {},
   "outputs": [],
   "source": [
    "contatos = {\n",
    "    \"guilerme@gmail.com\": {\"nome\": \"Guilherme\", \"telefone\": \"3333-2221\"},\n",
    "}\n",
    "\n",
    "contatos.items()"
   ]
  },
  {
   "cell_type": "markdown",
   "metadata": {},
   "source": [
    "#### {}.keys"
   ]
  },
  {
   "cell_type": "code",
   "execution_count": null,
   "metadata": {},
   "outputs": [],
   "source": [
    "contatos = {\n",
    "    \"guilerme@gmail.com\": {\"nome\": \"Guilherme\", \"telefone\": \"3333-2221\"},\n",
    "}\n",
    "\n",
    "contatos.keys()"
   ]
  },
  {
   "cell_type": "markdown",
   "metadata": {},
   "source": [
    "#### {}.pop"
   ]
  },
  {
   "cell_type": "code",
   "execution_count": null,
   "metadata": {},
   "outputs": [],
   "source": [
    "contatos = {\n",
    "    \"guilerme@gmail.com\": {\"nome\": \"Guilherme\", \"telefone\": \"3333-2221\"},\n",
    "}\n",
    "\n",
    "contatos.pop(\"guilherme@gmail.com\")\n",
    "\n",
    "contatos.pop(\"guilherme@gmail.com\", {})"
   ]
  },
  {
   "cell_type": "markdown",
   "metadata": {},
   "source": [
    "#### {}.popitem"
   ]
  },
  {
   "cell_type": "code",
   "execution_count": null,
   "metadata": {},
   "outputs": [],
   "source": [
    "contatos = {\n",
    "    \"guilerme@gmail.com\": {\"nome\": \"Guilherme\", \"telefone\": \"3333-2221\"},\n",
    "}\n",
    "\n",
    "contatos.popitem()\n",
    "\n",
    "contatos.popitem()"
   ]
  },
  {
   "cell_type": "markdown",
   "metadata": {},
   "source": [
    "#### {}.setdefault"
   ]
  },
  {
   "cell_type": "code",
   "execution_count": null,
   "metadata": {},
   "outputs": [],
   "source": [
    "contato = {\"nome\": \"Guilherme\", \"telefone\": \"3333-2221\"}\n",
    "\n",
    "contato.setdefault(\"nome\", \"Giovanna\")\n",
    "print(contato)\n",
    "\n",
    "contato.setdefault(\"idade\", 28)\n",
    "print(contato)\n"
   ]
  },
  {
   "cell_type": "markdown",
   "metadata": {},
   "source": [
    "#### {}.update"
   ]
  },
  {
   "cell_type": "code",
   "execution_count": null,
   "metadata": {},
   "outputs": [],
   "source": [
    "contatos = {\n",
    "    \"guilerme@gmail.com\": {\"nome\": \"Guilherme\", \"telefone\": \"3333-2221\"},\n",
    "}\n",
    "\n",
    "contatos.updade({\"guilherme@gmail.com\": {\"nome\": \"Gui\"}})\n",
    "print(contatos)\n",
    "\n",
    "contatos.update({\"giovanna@gmail.com\": {\"nome\": \"Giovanna\", \"telefone\":\"3322-8181\"}})\n",
    "print(contatos)"
   ]
  },
  {
   "cell_type": "markdown",
   "metadata": {},
   "source": [
    "#### {}.values"
   ]
  },
  {
   "cell_type": "code",
   "execution_count": null,
   "metadata": {},
   "outputs": [],
   "source": [
    "contatos = {\n",
    "    \"guilerme@gmail.com\": {\"nome\": \"Guilherme\", \"telefone\": \"3333-2221\"},\n",
    "    \"giovanna@gmail.com\": {\"nome\": \"Giovanna\", \"telefone\": \"3443-2121\"},\n",
    "    \"chappie@gmail.com\": {\"nome\": \"Chappie\", \"telefone\": \"3344-9871\"},\n",
    "    \"melaine@gmail.com\": {\"nome\": \"Melaine\", \"telefone\": \"3333-7766\"},\n",
    "}\n",
    "\n",
    "contatos.values()"
   ]
  },
  {
   "cell_type": "markdown",
   "metadata": {},
   "source": [
    "#### in"
   ]
  },
  {
   "cell_type": "code",
   "execution_count": null,
   "metadata": {},
   "outputs": [],
   "source": [
    "contatos = {\n",
    "    \"guilerme@gmail.com\": {\"nome\": \"Guilherme\", \"telefone\": \"3333-2221\"},\n",
    "    \"giovanna@gmail.com\": {\"nome\": \"Giovanna\", \"telefone\": \"3443-2121\"},\n",
    "    \"chappie@gmail.com\": {\"nome\": \"Chappie\", \"telefone\": \"3344-9871\"},\n",
    "    \"melaine@gmail.com\": {\"nome\": \"Melaine\", \"telefone\": \"3333-7766\"},\n",
    "}\n",
    "\n",
    "\"guilherme@gmail.com\" in contatos\n",
    "\"megui@gmail.com\" in contatos\n",
    "\"idade\" in contatos[\"guilerme@gmail.com\"]\n",
    "\"telefone\" in contatos[\"giovanna@gmail.com\"]"
   ]
  },
  {
   "cell_type": "markdown",
   "metadata": {},
   "source": [
    "#### del"
   ]
  },
  {
   "cell_type": "code",
   "execution_count": null,
   "metadata": {},
   "outputs": [],
   "source": [
    "contatos = {\n",
    "    \"guilerme@gmail.com\": {\"nome\": \"Guilherme\", \"telefone\": \"3333-2221\"},\n",
    "    \"giovanna@gmail.com\": {\"nome\": \"Giovanna\", \"telefone\": \"3443-2121\"},\n",
    "    \"chappie@gmail.com\": {\"nome\": \"Chappie\", \"telefone\": \"3344-9871\"},\n",
    "    \"melaine@gmail.com\": {\"nome\": \"Melaine\", \"telefone\": \"3333-7766\"},\n",
    "}\n",
    "\n",
    "del contatos[\"guilerme@gmail.com\"][\"telefone\"]\n",
    "del contatos[\"chappie@gmail.com\"]\n",
    "\n",
    "print(contatos)"
   ]
  }
 ],
 "metadata": {
  "kernelspec": {
   "display_name": "Python 3",
   "language": "python",
   "name": "python3"
  },
  "language_info": {
   "codemirror_mode": {
    "name": "ipython",
    "version": 3
   },
   "file_extension": ".py",
   "mimetype": "text/x-python",
   "name": "python",
   "nbconvert_exporter": "python",
   "pygments_lexer": "ipython3",
   "version": "3.11.2"
  },
  "orig_nbformat": 4
 },
 "nbformat": 4,
 "nbformat_minor": 2
}
