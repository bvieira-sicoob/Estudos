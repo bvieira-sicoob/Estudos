{
 "cells": [
  {
   "cell_type": "markdown",
   "metadata": {},
   "source": [
    "### Por que usamos tipos?\n",
    "Os tipos servem para definir as caracteristicas e comportamentos de um valor (objeto) para o interpretador.\n",
    "Por exemplo:\n",
    "\n",
    "Com esse tipo sou capaz de realizar operações matemáticas.\n",
    "Esse tipo para ser armazenado em memória irá consumir 24 bytes.\n",
    "\n",
    "### Tipos em Python\n",
    "Os tipos built-in são:\n",
    "\n",
    "##### Texto     : str\n",
    "##### Número    : int, float, complex\n",
    "##### Sequência : list, tuple, range\n",
    "##### Mapa      : dict\n",
    "##### Coleção   : set, fronzenset\n",
    "##### Booleano  : bool\n",
    "##### Binário   : bytes, bytearray, memoryview\n",
    "\n",
    "### Números inteiros\n",
    "Números inteiros são respresentados pela classe *int* e possuem precisão ilimitada. São exemplos válidos de números inteiros:\n",
    "1, 10, 100, -1, -10, -100...99001823\n",
    "\n",
    "### Números de ponto flutuante\n",
    "Os números de ponto flutuante são usados para representar os números racionais e sua implementação é feita pela classe *float*. São exemplos válidos de números de ponto flutuante:\n",
    "1.5, -10.543, 0.76...999278.002\n",
    "\n",
    "### Booleano\n",
    "É usado para representar verdadeiro ou falso, e é implementado pela classe *bool*. Em Python o tipo booleano é uma subclasse *int*, uma vez que qualquer número diferente de 0 representa verdadeiro e 0 representa falso. São exemplos válidos de booleanos:\n",
    "True e False\n",
    "\n",
    "### Strings \n",
    "Strings ou cadeia de caracteres são usadas para representar valores alfanúmericos, em Python as strings são definidas utilizando a classe *str*. São exemplos válidos de string:\n",
    "\"Python\", 'Python', \"\"\"Python\"\"\", '''Python''', \"p\""
   ]
  },
  {
   "cell_type": "code",
   "execution_count": null,
   "metadata": {},
   "outputs": [],
   "source": [
    "print(11 + 10 + 1000)\n",
    "print(1.5 + 1 + 0.5)\n",
    "print(True)\n",
    "print(False)\n",
    "print(\"Python\")\n"
   ]
  },
  {
   "cell_type": "markdown",
   "metadata": {},
   "source": [
    "#### O modo interativo\n",
    "O interpretador Python pode executar em modo que possibilite o desenvolvedor a escrever o código, e ver o resultado na hora.\n",
    "\n",
    "#### Iniciando o modo interativo\n",
    "Existem duas formas de iniciar o modo interativo, chamando apenas o interpretador (python) ou executando o script com a flag -i (python -i app.py).\n",
    "\n",
    "#### dir\n",
    "sem argumentos, retorna a lista de nomes no escopo local atual. Com um argumento, retorna uma lista de atributos válidos para o objeto. Exemplo:\n",
    "##### dir()\n",
    "##### dir(100)\n",
    "\n",
    "#### help\n",
    "Invoca o sistema de ajuda integrado. É possível fazer buscas em modo interativo ou informar por parâmetro qual o nome do módulo, função, classe, método ou váriavel. Exemplo:\n",
    "##### help()\n",
    "##### help(100)"
   ]
  },
  {
   "cell_type": "markdown",
   "metadata": {},
   "source": [
    "#### Váriaveis\n",
    "Em linguagens de programação podemos definir valores que podem sofrer alterações no decorrer da execução do programa. Esses valores recebem o nome de variáveis, pois eles nascem com um valor e não necessariamente devem permanecer com o mesmo durante a execução do programa."
   ]
  },
  {
   "cell_type": "code",
   "execution_count": null,
   "metadata": {},
   "outputs": [],
   "source": [
    "age = 23\n",
    "name = \"Guilherme\"\n",
    "print(f\"Meu nome é {name} e eu tenho {age} ano(s) de idade.\")\n",
    "\n",
    "age, name = (23, \"Guilherme\")\n",
    "print(f\"Meu nome é {name} e eu tenho {age} ano(s) de idade.\")"
   ]
  },
  {
   "cell_type": "markdown",
   "metadata": {},
   "source": [
    "### Alterando os valores\n",
    "Perceba que não precisamos definir o tipo de dados da variável, o Python faz isso automaticamente para nós. Por isso não podemos simplesmente criar uma váriavel sem atribuir um valor. Para alterar o valor da variável basta fazer uma atribuição de um novo valor:"
   ]
  },
  {
   "cell_type": "code",
   "execution_count": null,
   "metadata": {},
   "outputs": [],
   "source": [
    "age = 28\n",
    "name = \"Guilherme\"\n",
    "print(f\"Meu nome é {name} e eu tenho {age} ano(s) de idade.\")\n",
    "\n",
    "age = 27\n",
    "name = \"Giovanna\"\n",
    "print(f\"Meu nome é {name} e eu tenho {age} ano(s) de idade.\")"
   ]
  },
  {
   "cell_type": "markdown",
   "metadata": {},
   "source": [
    "### Constantes\n",
    "Assim como as variáveis, constantes são utilizadas para armazenar valores. Uma constante nasce com um valor e permanece com ele até o final da execução do programa, ou seja, o valor é imutável.\n",
    "\n",
    "### Python não tem constantes\n",
    "Não existe uma palavra reservada para informar ao interpretador que o valor é constante. Em algumas linguagens por exemplo: Java e C utilizamos *final* e *const*, respectivamente para declarar uma constante.\n",
    "\n",
    "Em Python usamos a convenção que diz ao programador que a variável é uma constante. Para fazer isso, você deve criar a variável com o nome todo em letras maíusculas:"
   ]
  },
  {
   "cell_type": "code",
   "execution_count": null,
   "metadata": {},
   "outputs": [],
   "source": [
    "ABS_PATH = 'C:/Users/bernardov1000_00/Documents/Estudos 2.0/Estudos/Dio/Bootcamps/Potência_Tech_powered_by_iFood_Ciências_de_Dados_com_Python/'\n",
    "DEBUG = True\n",
    "STATES = [\n",
    "    \"SP\",\n",
    "    \"RJ\",\n",
    "    \"MG\",\n",
    "]\n",
    "AMOUNT = 30.2"
   ]
  },
  {
   "cell_type": "markdown",
   "metadata": {},
   "source": [
    "### Boas práticas\n",
    "- O padrão de nome deve ser em snake case.\n",
    "- Escolher nomes sugestivos.\n",
    "- Nome de constantes todo em maiúsculo."
   ]
  },
  {
   "cell_type": "code",
   "execution_count": null,
   "metadata": {},
   "outputs": [],
   "source": [
    "nome = \"Guilherme\"\n",
    "idade = \"28\"\n",
    "\n",
    "nome, idade = \"Giovanna\", 27\n",
    "\n",
    "print(nome, idade)\n",
    "\n",
    "limite_saque_diario = 1000\n",
    "\n",
    "BRAZILLIAN_STATES = [\"SP\", \"RJ\", \"SC\", \"RS\"]\n",
    "\n",
    "print(BRAZILLIAN_STATES)"
   ]
  },
  {
   "cell_type": "markdown",
   "metadata": {},
   "source": [
    "### Convertendo tipos\n",
    "Em alguns momentos é necessário converter o tipo de uma variável para manipular de forma diferente. Por exemplo:\n",
    "Váriaveis do tipo string, que armazenam números e precisamos fazer alguma operação matemática com esse valor."
   ]
  },
  {
   "cell_type": "markdown",
   "metadata": {},
   "source": [
    "### Inteiro para float"
   ]
  },
  {
   "cell_type": "code",
   "execution_count": null,
   "metadata": {},
   "outputs": [],
   "source": [
    "preco = 10\n",
    "print(preco)\n",
    "\n",
    "preco = float(preco)\n",
    "print(preco)\n",
    "\n",
    "preco = 10 / 2\n",
    "print(preco)"
   ]
  },
  {
   "cell_type": "markdown",
   "metadata": {},
   "source": [
    "### Float para inteiro"
   ]
  },
  {
   "cell_type": "code",
   "execution_count": null,
   "metadata": {},
   "outputs": [],
   "source": [
    "preco = 10.30\n",
    "print(preco)\n",
    "\n",
    "preco = int(preco)\n",
    "print(preco)"
   ]
  },
  {
   "cell_type": "markdown",
   "metadata": {},
   "source": [
    "### Conversão por divisão"
   ]
  },
  {
   "cell_type": "code",
   "execution_count": null,
   "metadata": {},
   "outputs": [],
   "source": [
    "preco = 10\n",
    "print(preco)\n",
    "\n",
    "print(preco / 2)\n",
    "\n",
    "print(preco // 2)"
   ]
  },
  {
   "cell_type": "markdown",
   "metadata": {},
   "source": [
    "### Numérico para string"
   ]
  },
  {
   "cell_type": "code",
   "execution_count": null,
   "metadata": {},
   "outputs": [],
   "source": [
    "preco = 10.50\n",
    "idade = 28\n",
    "\n",
    "print(str(preco))\n",
    "\n",
    "print(str(idade))\n",
    "\n",
    "texto = f\"idade {idade} preco {preco}\"\n",
    "print(texto)"
   ]
  },
  {
   "cell_type": "markdown",
   "metadata": {},
   "source": [
    "### String para número"
   ]
  },
  {
   "cell_type": "code",
   "execution_count": null,
   "metadata": {},
   "outputs": [],
   "source": [
    "preco = \"10.50\"\n",
    "idade = \"28\"\n",
    "\n",
    "print(float(preco))\n",
    "\n",
    "print(int(idade))"
   ]
  },
  {
   "cell_type": "code",
   "execution_count": null,
   "metadata": {},
   "outputs": [],
   "source": [
    "print(int(1.97348728))\n",
    "print(int(\"10\"))\n",
    "print(float(\"10.10\"))\n",
    "print(float(100))\n",
    "\n",
    "valor = 10\n",
    "valor_str =str(valor)\n",
    "print(type(valor))\n",
    "print(type(valor_str))\n",
    "\n",
    "print(100 / 2)\n",
    "print(100 // 2)\n"
   ]
  },
  {
   "cell_type": "markdown",
   "metadata": {},
   "source": [
    "### Função input\n",
    "A função builtin *input* é utilizada quando queremos ler dados da entrada padrão (teclado). Ela recebe um argumento do tipo string, que é exibido para o usuário na saída padrão (tela). A função lê a entrada, converte para string e retorna o valor."
   ]
  },
  {
   "cell_type": "code",
   "execution_count": null,
   "metadata": {},
   "outputs": [],
   "source": [
    "nome = input(\"Informe o seu nome: \")"
   ]
  },
  {
   "cell_type": "markdown",
   "metadata": {},
   "source": [
    "### Função print\n",
    "A função builtin *print* é utilizada quando queremos exibir dados na saída padrão (tela). Ela recebe um argumento obrigatório do tipo varargs de objetos e 4 argumentos opcionais (sep, end, file e flush). Todos os objetos são convertidos para string, separados por *sep* e terminados por *end*. A string final é exibida para o usuário."
   ]
  },
  {
   "cell_type": "code",
   "execution_count": null,
   "metadata": {},
   "outputs": [],
   "source": [
    "nome = \"Guilherme\"\n",
    "sobrenome = \"Carvalho\"\n",
    "\n",
    "print(nome, sobrenome)\n",
    "print(nome, sobrenome, end=\"...\\n\")\n",
    "print(nome, sobrenome, sep=\"#\")\n"
   ]
  },
  {
   "cell_type": "code",
   "execution_count": null,
   "metadata": {},
   "outputs": [],
   "source": [
    "nome = input(\"Informe o seu nome: \")\n",
    "idade = input(\"Informe a sua idade: \")\n",
    "\n",
    "print(nome, idade)\n",
    "print(nome, idade, end=\"...\\n\")\n",
    "print(nome, idade, sep=\"#\", end=\"...\\n\")\n",
    "print(nome, idade, sep=\"#\")"
   ]
  },
  {
   "cell_type": "markdown",
   "metadata": {},
   "source": [
    "## Operadores Aritméticos\n",
    "### O que são?\n",
    "Os operadores aritméticos executam operações matemáticas, como adição, subtração com operandos.\n",
    "\n",
    "### Adição, subtração, multiplicação, divisão, divisão inteira, módulo e exponenciação"
   ]
  },
  {
   "cell_type": "code",
   "execution_count": null,
   "metadata": {},
   "outputs": [],
   "source": [
    "# Adição\n",
    "print(1 + 1)\n",
    "\n",
    "# Subtração\n",
    "print(10 - 2)\n",
    "\n",
    "# Multiplicação\n",
    "print(4 * 3)\n",
    "\n",
    "# Divisão\n",
    "print(12 / 3)\n",
    "\n",
    "# Divisão inteira\n",
    "print(12 // 2)\n",
    "\n",
    "# Módulo\n",
    "print(10 % 3)\n",
    "\n",
    "# Exponenciação\n",
    "print(2 ** 3)"
   ]
  },
  {
   "cell_type": "markdown",
   "metadata": {},
   "source": [
    "## Precedência\n",
    "#### Na matemática\n",
    "Na matemática existe uma regra que indica quais operações devem ser executadas primeiro. Isso é útil pois ao analisar uma expressão, a depender da ordem das operações o valor pode ser diferente:\n",
    "x = 10 - 5 * 2\n",
    "\n",
    "A definição inidica a seguinte ordem como a correta:\n",
    "- Parêntesis\n",
    "- Expoêntes\n",
    "- Multiplicações e divisões (da esquerda para a direita)\n",
    "- Somas e subtrações (da esquerda para a direita)"
   ]
  },
  {
   "cell_type": "code",
   "execution_count": null,
   "metadata": {},
   "outputs": [],
   "source": [
    "print(10 - 5 * 2)\n",
    "\n",
    "print((10 - 5) * 2)\n",
    "\n",
    "print(10 ** 2 * 2)\n",
    "\n",
    "print(10 ** (2 * 2))\n",
    "\n",
    "print(10 / 2 * 4)"
   ]
  },
  {
   "cell_type": "code",
   "execution_count": null,
   "metadata": {},
   "outputs": [],
   "source": [
    "produto_1 = 20\n",
    "produto_2 = 10\n",
    "\n",
    "print(produto_1 + produto_2)\n",
    "print(produto_1 - produto_2)\n",
    "print(produto_1 / produto_2)\n",
    "print(produto_1 // produto_2)\n",
    "print(produto_1 * produto_2)\n",
    "print(produto_1 % produto_2)\n",
    "print(produto_1 ** produto_2)\n",
    "\n",
    "x = (10 + 5) * 4\n",
    "y = (10 / 2) + 25 * ((2 - 2) ** 2)\n",
    "print(x)\n",
    "print(y)"
   ]
  },
  {
   "cell_type": "markdown",
   "metadata": {},
   "source": [
    "## Operadores de comparação\n",
    "### O que são?\n",
    "São operadores utilizados para comparar dois valores.\n",
    "\n",
    "### Igualdade, diferença, maior que / maior ou igual, menor que / menor ou igual"
   ]
  },
  {
   "cell_type": "code",
   "execution_count": null,
   "metadata": {},
   "outputs": [],
   "source": [
    "saldo = 450\n",
    "saque = 200\n",
    "\n",
    "# Igualdade \n",
    "print(saldo == saque)\n",
    "\n",
    "# Diferença\n",
    "print(saldo != saque)\n",
    "\n",
    "# Maior que\n",
    "print(saldo > saque)\n",
    "\n",
    "# Maior ou igual\n",
    "print(saldo >= saque)\n",
    "\n",
    "# Menor que\n",
    "print(saldo < saque)\n",
    "\n",
    "# Menor ou igual\n",
    "print(saldo <= saque)"
   ]
  },
  {
   "cell_type": "code",
   "execution_count": null,
   "metadata": {},
   "outputs": [],
   "source": [
    "saldo = 200\n",
    "saque = 200\n",
    "\n",
    "print(saldo == saque)\n",
    "print(saldo != saque)\n",
    "print(saldo > saque)\n",
    "print(saldo >= saque)\n",
    "print(saldo < saque)\n",
    "print(saldo <= saque)"
   ]
  },
  {
   "cell_type": "markdown",
   "metadata": {},
   "source": [
    "## Operadores de atribuição\n",
    "### O que são?\n",
    "São operadores utilizados para definir o valor inicial ou sobrescrever o valor de uma variável.\n",
    "\n",
    "### Atribuição simples, atruibuição com adição, atribuição com subtração, atruibuição com multiplicação, atribuição com divisão, atruibuição com divisão inteira, atruibuição com módulo e atruibuição com exponenciação"
   ]
  },
  {
   "cell_type": "code",
   "execution_count": null,
   "metadata": {},
   "outputs": [],
   "source": [
    "saldo = 500\n",
    "saldo += 200\n",
    "saldo -= 200\n",
    "saldo *= 2\n",
    "saldo /= 5\n",
    "saldo //= 5\n",
    "saldo %= 480\n",
    "saldo **= 2\n",
    "\n",
    "print(saldo)"
   ]
  },
  {
   "cell_type": "code",
   "execution_count": null,
   "metadata": {},
   "outputs": [],
   "source": [
    "saldo = 500\n",
    "\n",
    "print(saldo)\n",
    "\n",
    "saldo = 200\n",
    "\n",
    "print(saldo)\n",
    "\n",
    "saldo += 10\n",
    "print(saldo)\n",
    "\n",
    "saldo -= 5\n",
    "print(saldo)\n",
    "\n",
    "saldo /= 2\n",
    "print(saldo)\n",
    "\n",
    "saldo //= 2\n",
    "print(saldo)\n",
    "\n",
    "saldo *= 10\n",
    "print(saldo)\n",
    "\n",
    "saldo %= 4\n",
    "print(saldo)\n",
    "\n",
    "saldo **= 2\n",
    "print(saldo)"
   ]
  },
  {
   "cell_type": "markdown",
   "metadata": {},
   "source": [
    "## Operadores lógicos\n",
    "### O que são?\n",
    "São operadores utiliados em conjunto com os operadores de comparação, para montar uma expressão lógica. Quando um operador de comparação é utilizado, o resultado retornado é um booleano, dessa forma podemos combinar operadores de comparação com os operadores lógicos, exemplo:\n",
    "os_comparacao + op_logico + op_comparacao...N...\n",
    "\n",
    "### Operador E, operador ou, operador negação, parênteses"
   ]
  },
  {
   "cell_type": "code",
   "execution_count": null,
   "metadata": {},
   "outputs": [],
   "source": [
    "# AND = para ser True tudo tem quer ser True\n",
    "# OR = para ser True apenas um tem que ser True\n",
    "\n",
    "print(True and True and True)\n",
    "print(True and False and True)\n",
    "print(False and False and False)\n",
    "print(True or True or True)\n",
    "print(True or False or False)\n",
    "print(False or False or False)\n",
    "\n",
    "\n",
    "saldo = 1000\n",
    "saque = 200\n",
    "limite = 100\n",
    "conta_especial = True\n",
    "contatos_emergencia = []\n",
    "\n",
    "\n",
    "# Operador E\n",
    "saldo >= saque and saque <= limite\n",
    "\n",
    "# Operador Ou\n",
    "saldo >= saque or saque <= limite\n",
    "\n",
    "# Operador Negação\n",
    "not 1000 > 1500\n",
    "\n",
    "not contatos_emergencia\n",
    "\n",
    "not \"saquer 1500;\"\n",
    "\n",
    "not \"\"\n",
    "\n",
    "exp = saldo >= saque and saque <= limite or conta_especial and saldo >= saque\n",
    "print(exp)\n",
    "\n",
    "exp_2 = (saldo >= saque and saque <= limite) or (conta_especial and saldo >= saque)\n",
    "print(exp_2)\n",
    "\n",
    "conta_normal_com_saldo_suficiente = saldo >= saque and saque <= limite\n",
    "conta_especial_com_saldo_suficiente = conta_especial and saldo >= saque\n",
    "\n",
    "exp_3 = conta_normal_com_saldo_suficiente or conta_especial_com_saldo_suficiente\n",
    "print(exp_3)"
   ]
  },
  {
   "cell_type": "markdown",
   "metadata": {},
   "source": [
    "## Operadores de identidade\n",
    "### O que são?\n",
    "São operadores utilizados para comparar se os dois objetos testados ocupam a mesma posição na memória."
   ]
  },
  {
   "cell_type": "code",
   "execution_count": null,
   "metadata": {},
   "outputs": [],
   "source": [
    "curso = \"Curso de Python\"\n",
    "nome_curso = curso\n",
    "saldo, limite = 200, 200\n",
    "\n",
    "curso is nome_curso\n",
    "\n",
    "curso is not nome_curso\n",
    "\n",
    "saldo is limite"
   ]
  },
  {
   "cell_type": "code",
   "execution_count": null,
   "metadata": {},
   "outputs": [],
   "source": [
    "saldo = 1000\n",
    "limite = 1000\n",
    "\n",
    "print(saldo is limite)\n",
    "print(saldo is not limite)"
   ]
  },
  {
   "cell_type": "markdown",
   "metadata": {},
   "source": [
    "## Operadores de associação\n",
    "### O que são?\n",
    "São operadores utilizados para verificar se um objeto está presente em uma sequência."
   ]
  },
  {
   "cell_type": "code",
   "execution_count": null,
   "metadata": {},
   "outputs": [],
   "source": [
    "curso = \"Curso de Python\"\n",
    "frutas = [\"laranja\", \"uva\", \"limão\"]\n",
    "saques = [1500, 100]\n",
    "\n",
    "\"Python\" in curso\n",
    "\n",
    "\"maçã\" not in frutas\n",
    "\n",
    "200 in saques"
   ]
  },
  {
   "cell_type": "code",
   "execution_count": null,
   "metadata": {},
   "outputs": [],
   "source": [
    "frutas = [\"limão\", \"uva\"]\n",
    "curso = \"Curso de Python\"\n",
    "\n",
    "print(\"laranja\" not in frutas)\n",
    "print(\"limão\" in frutas)\n",
    "print(\"Python\" in curso)"
   ]
  },
  {
   "cell_type": "markdown",
   "metadata": {},
   "source": [
    "## Identação e Blocos\n",
    "\n",
    "### A estética\n",
    "Identar um código é uma forma de manter o código fonte mais legível e manutenível. Mas em Python ela exerce um segundo papel, através da indentação o interpretador consegue determinar onde um bloco de comando inicia e onde ele termina.\n",
    "\n",
    "### Utilizando espaços\n",
    "Existe uma convenção em Python, que define as boas práticas para escrita de código na linguagem. Nesse documento é indicado utilizar 4 espaços em branco por nível de indentação, ou seja, a cada novo bloco adicionamos 4 novos espaços em branco."
   ]
  },
  {
   "cell_type": "code",
   "execution_count": null,
   "metadata": {},
   "outputs": [],
   "source": [
    "def sacar(self, valor: float) -> None:\n",
    "    \n",
    "    if self.saldo >= valor:\n",
    "        self.saldo -= valor"
   ]
  },
  {
   "cell_type": "code",
   "execution_count": null,
   "metadata": {},
   "outputs": [],
   "source": [
    "def sacar(valor):\n",
    "    saldo = 500\n",
    "\n",
    "    if saldo >= valor:\n",
    "        print(\"valor sacado\")\n",
    "        print(\"retire o seu dinheiro na boca do caixa.\")\n",
    "\n",
    "    print(\"Obrigado por ser nosso cliente, tenha um bom dia!\")\n",
    "\n",
    "\n",
    "def depositar(valor):\n",
    "    saldo = 500\n",
    "    saldo += valor\n",
    "\n",
    "sacar(100)"
   ]
  },
  {
   "cell_type": "markdown",
   "metadata": {},
   "source": [
    "## Estruturas Condicionais\n",
    "\n",
    "### O que são?\n",
    "A estrutura condicional permite o desvio de fluxo de controle, quando determinadas expressões lógicas são atendidas.\n",
    "\n",
    "### If\n",
    "Para criar uma estrutura condicional simples, composta por um único desvio, podemos utilizar a palavra reservada if. O comando irá testar a expressão lógica, e em caso de retorno verdadeiro as ações presentes no bloco de código do if serão executadas."
   ]
  },
  {
   "cell_type": "code",
   "execution_count": null,
   "metadata": {},
   "outputs": [],
   "source": [
    "saldo = 2000.0\n",
    "saque = float(input(\"Informe o valor do saque: \"))\n",
    "\n",
    "if saldo >= saque:\n",
    "    print(\"Realizando saque!\")\n",
    "\n",
    "if saldo < saque:\n",
    "    print(\"Saldo insuficiente!\")"
   ]
  },
  {
   "cell_type": "markdown",
   "metadata": {},
   "source": [
    "### if/else\n",
    "Para criar uma estrutura condicional com dois desvios, podemos utilizar as palavras reservadas if e else. Como sabemos se a expressão lógica testada no if for verdadeira, então o bloco de código do if sera executado. Caso contrário o bloco de código do else será executado."
   ]
  },
  {
   "cell_type": "code",
   "execution_count": null,
   "metadata": {},
   "outputs": [],
   "source": [
    "saldo = 2000.0\n",
    "saque = float(input(\"Informe o valor do saque: \"))\n",
    "\n",
    "if saldo >= saque:\n",
    "    print(\"Realizando saque!\")\n",
    "\n",
    "else:\n",
    "    print(\"Saldo insuficiente!\")"
   ]
  },
  {
   "cell_type": "markdown",
   "metadata": {},
   "source": [
    "### if/elif/else\n",
    "Em alguns cenários queremos mais de dois desvios, para isso podemos utilizar a palavra reservada elif. O elif é composto por uma nova expressão lógica, que será testada e caso retorne verdadeiro o bloco de código do elif será executado. Não existe um número máximo de elifs que podemos utilziar, porém evite criar grandes estruturas condicionais, pois elas aumentam a complexidade do código."
   ]
  },
  {
   "cell_type": "code",
   "execution_count": null,
   "metadata": {},
   "outputs": [],
   "source": [
    "import sys\n",
    "\n",
    "opcao = int(input(\"Informe uma opção: [1] sacar \\n[2] Extrato: \"))\n",
    "\n",
    "if opcao == 1:\n",
    "    valor = float(input(\"Informe a quantia para o saque: \"))\n",
    "\n",
    "elif opcao == 2:\n",
    "    print(\"Exibindo o extrato...\")\n",
    "\n",
    "else:\n",
    "    sys.exit(\"Opção inválida\")"
   ]
  },
  {
   "cell_type": "code",
   "execution_count": null,
   "metadata": {},
   "outputs": [],
   "source": [
    "MAIOR_IDADE = 18\n",
    "IDADE_ESPECIAL = 17\n",
    "\n",
    "idade = int(input(\"Informe sua idade: \"))\n",
    "\n",
    "if idade >= MAIOR_IDADE:\n",
    "    print(\"Maior de idade, pode tirar a CNH.\")\n",
    "\n",
    "if idade < MAIOR_IDADE:\n",
    "    print(\"Ainda não pode tirar a CNH.\")\n",
    "\n",
    "if idade >= MAIOR_IDADE:\n",
    "    print(\"Maior de idade, pode tirar a CNH.\")\n",
    "\n",
    "elif idade == IDADE_ESPECIAL:\n",
    "    print(\"Pode fazer aulas teóricas, mas não pode fazer aulas práticas.\")\n",
    "\n",
    "else:\n",
    "    print(\"Ainda não pode tirar a CNH.\")\n",
    "\n"
   ]
  },
  {
   "cell_type": "markdown",
   "metadata": {},
   "source": [
    "### if aninhado\n",
    "Podemos criar estruturas condicionais aninhadas, para isso basta adicionar estruturas if/elif/else dentro do bloco de código de estruturas if/elif/else."
   ]
  },
  {
   "cell_type": "code",
   "execution_count": null,
   "metadata": {},
   "outputs": [],
   "source": [
    "conta_normal = False\n",
    "conta_universitaria = False\n",
    "\n",
    "saldo = 2000\n",
    "saque = 500\n",
    "cheque_especial = 450\n",
    "\n",
    "if conta_normal:\n",
    "    if saldo >= saque:\n",
    "        print(\"Saque realizado com sucesso!\")\n",
    "    \n",
    "    elif saque <= (saldo + cheque_especial):\n",
    "        print(\"Saque realizado com uso do cheque especial!\")\n",
    "\n",
    "    else:\n",
    "        print(\"Não foi possível realizar o saque, saldo insuficiente!\")\n",
    "\n",
    "elif conta_universitaria:\n",
    "    if saldo >= saque:\n",
    "        print(\"Saque realizado com sucesso!\")\n",
    "    \n",
    "    else:\n",
    "        print(\"Saldo insuficiente!\")\n",
    "\n",
    "else:\n",
    "    print(\"Sistema não reconheceu seu tipo de conta, entre em contato com o seu gerente.\")"
   ]
  },
  {
   "cell_type": "markdown",
   "metadata": {},
   "source": [
    "### if ternário\n",
    "O if ternário permite escrever uma condição em uma única linha. Ele é composto por três partes, a primeira parte é o retorno caso a expressão retorne verdadeiro, a segunda parte é a expressão lógica e a terceira parte é o retorno caso a expressão não seja atendida."
   ]
  },
  {
   "cell_type": "code",
   "execution_count": null,
   "metadata": {},
   "outputs": [],
   "source": [
    "saldo = 2000\n",
    "saque = 2500\n",
    "\n",
    "status = \"Sucesso\" if saldo >= saque else \"Falha\"\n",
    "\n",
    "print(f\"{status} ao realizar o saque!\")"
   ]
  },
  {
   "cell_type": "markdown",
   "metadata": {},
   "source": [
    "## Estruturas de repetição\n",
    "\n",
    "### O que são estruturas de repetição?\n",
    "São estruturas utilizadas para repetir um trecho de código um determinado número de vezes. Esse número pode ser conhecido previamente ou determinado através de uma expressão lógica.\n",
    "\n",
    "### Comando for\n",
    "O comando for é usado para percorrer um objeto iterável. Faz sentido usar for quando sabemos o número exato de vezes que o nosso bloco de código deve ser executado, ou quando queremos percorrer um objeto iterável."
   ]
  },
  {
   "cell_type": "code",
   "execution_count": null,
   "metadata": {},
   "outputs": [],
   "source": [
    "texto = input(\"Informe um texto: \")\n",
    "VOGAIS = \"AEIOU\"\n",
    "\n",
    "for letra in texto:\n",
    "    if letra.upper() in VOGAIS:\n",
    "        print(letra, end=\"\")\n",
    "\n",
    "else:\n",
    "  print(\"Executa no final do laço\")"
   ]
  },
  {
   "cell_type": "markdown",
   "metadata": {},
   "source": [
    "### Função range\n",
    "Range é uma função built-in do Python, ela é usada para produzir uma sequência de números inteiros a partir de um ínicio (inclusivo) para um fim (exclusivo). Se usarmos range(i,j) sera produzido:\n",
    "\n",
    "i, i+1, i+2, i+3, ..., j-1.\n",
    "\n",
    "Ela recebe 3 argumentos: stop (obrigatório), start (opcional) e step (opcional)."
   ]
  },
  {
   "cell_type": "code",
   "execution_count": null,
   "metadata": {},
   "outputs": [],
   "source": [
    "for numero in range(0, 11):\n",
    "    print(numero, end=\" \")\n",
    "\n",
    "for numero in range(0, 51, 5):\n",
    "    print(numero, end=\" \")"
   ]
  },
  {
   "cell_type": "markdown",
   "metadata": {},
   "source": [
    "### Comando while\n",
    "O comando while é usado para repetir um bloco de código várias vezes. Faz sentido usar while quando não sabemos o número exato de vezes que nosso bloco de código deve ser executado."
   ]
  },
  {
   "cell_type": "code",
   "execution_count": null,
   "metadata": {},
   "outputs": [],
   "source": [
    "opcao = -1\n",
    "\n",
    "while opcao != 0:\n",
    "    opcao = int(input(\"[1] Sacar \\n[2] Extrato \\n[0] Sair \\n: \"))\n",
    "\n",
    "    if opcao == 1:\n",
    "        print(\"Sacando...\")\n",
    "    elif opcao == 2:\n",
    "        print(\"Exibindo o extrato...\")\n",
    "\n",
    "else:\n",
    "    print(\"Obrigado por usar nosso sistema bancário, até logo!\")"
   ]
  },
  {
   "cell_type": "code",
   "execution_count": null,
   "metadata": {},
   "outputs": [],
   "source": [
    "while True:\n",
    "    numero = int(input(\"Informe um número: \"))\n",
    "\n",
    "    if numero == 10:\n",
    "        break\n",
    "    \n",
    "    print(numero)"
   ]
  }
 ],
 "metadata": {
  "kernelspec": {
   "display_name": "Python 3",
   "language": "python",
   "name": "python3"
  },
  "language_info": {
   "codemirror_mode": {
    "name": "ipython",
    "version": 3
   },
   "file_extension": ".py",
   "mimetype": "text/x-python",
   "name": "python",
   "nbconvert_exporter": "python",
   "pygments_lexer": "ipython3",
   "version": "3.11.2"
  },
  "orig_nbformat": 4
 },
 "nbformat": 4,
 "nbformat_minor": 2
}
